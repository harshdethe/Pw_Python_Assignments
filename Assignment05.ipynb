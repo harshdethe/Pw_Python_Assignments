{
  "nbformat": 4,
  "nbformat_minor": 0,
  "metadata": {
    "colab": {
      "provenance": []
    },
    "kernelspec": {
      "name": "python3",
      "display_name": "Python 3"
    },
    "language_info": {
      "name": "python"
    }
  },
  "cells": [
    {
      "cell_type": "markdown",
      "source": [
        "1. What is the difference between interpreted and compiled languages\n",
        " - An interpreted language uses an interpreter for execution, which executes code line by line. If any error occurs, it raises the error immediately and cannot proceed to the next line. On the other hand, a compiled language uses a compiler for execution. The compiler first compiles the entire code and then raises all errors at once.\n",
        "\n",
        "2. What is exception handling in Python\n",
        " - Exception handling in Python is a mechanism to manage errors that occur during the execution of a program. An exception is a logical error that occurs at runtime. We can handle exceptions using the try and except blocks.In the try block, we write the code that may raise an exception. If an exception occurs, the control is transferred to the corresponding except block, where we can handle the error appropriately.Python has several built-in exceptions, such as ArithmeticError, OverflowError, FloatingPointError, ZeroDivisionError, TypeError, and IndentationError, among others. Additionally, we can create user-defined exceptions to handle specific error conditions in our programs.\n",
        "\n",
        "3. What is the purpose of the finally block in exception handling\n",
        " - The finally block is used in exception handling to execute code that should run regardless of whether the code in the try block executes successfully or an exception is raised. The code within the finally block is always executed, even if an exception occurs.Typically, we use the finally block to include code that is essential to run at the end of a program, such as closing an open file in file handling or releasing resources. This ensures that necessary cleanup actions are performed, regardless of the outcome of the preceding code\n",
        "\n",
        "4. What is logging in Python\n",
        " - Logging in Python is used to store records of the state and flow of your program, code, or software. It is useful for understanding, monitoring, and debugging your code, as it shows how the program behaves over time. Logging supports different levels that help categorize messages. The categories include DEBUG, which is the lowest level of logging and is used to provide detailed information about variables or messages; INFO, which conveys that the code is working as expected; WARNING, which indicates that something has happened or that there is a potential issue in the code; ERROR, which signifies that there is a serious problem with a function or part of the code; and CRITICAL, which is the highest priority logging level, indicating a critical error that may terminate the program. Using logging effectively can greatly enhance the maintainability and debuggability of your code.\n",
        "\n",
        "5. What is the significance of the __del__ method in Python\n",
        " - The __del__ method is a special method in Python that is invoked when an object is about to be destroyed. Its significance lies in providing a mechanism to release any system resources that the object has acquired during its lifetime, such as file handles, network connections, or locks. The __del__ method is called when the del keyword is used on an object, indicating that there are no more references to the object in the program and that it is eligible for garbage collection. By implementing the __del__ method, developers can ensure that resources are properly cleaned up, preventing potential resource leaks.\n",
        "\n",
        "6. What is the difference between import and from ... import in Python\n",
        " - Both import and from ... import are used to include modules in our script, but they function differently. The import statement is used to import the entire module, which means that if we want to use a specific function from that module, we need to reference the module name followed by the function name. For example, if we import a module named ABC, we would use it like this: ABC.function_name().On the other hand, the from ... import statement is used to import specific functions or classes directly from a module. For instance, using from ABC import PQR allows us to use PQR directly without needing to reference the module name. This can make the code cleaner and easier to read when we only need a few specific components from a module.\n",
        "\n",
        "7. How can you handle multiple exceptions in Python\n",
        " - In Python, to handle multiple exceptions, you can use multiple except blocks within a try-except structure. In the try block, you write the code that may raise exceptions. If an exception occurs, the control is transferred to the corresponding except block, where you can handle the specific exception.You can specify different exception types in separate except blocks, allowing you to handle each exception differently. Additionally, you can also handle multiple exceptions in a single except block by using a tuple of exception types.\n",
        "\n",
        "8. What is the purpose of the with statement when handling files in Python\n",
        " - The with statement is used in file handling to simplify the process of opening and closing files. When you open a file using the with statement, you specify the file access mode and perform operations on the file within a defined scope. The key advantage of using the with statement is that it automatically takes care of closing the file once the block of code is executed, even if an error occurs during the file operations.This means you do not need to explicitly call the close() function to free up resources, as the with statement ensures that the file is properly closed when the block is exited. This helps prevent resource leaks and makes the code cleaner and more readable. For example:\n",
        "\n",
        "9. What is the difference between multithreading and multiprocessing\n",
        " - Multithreading is a concept used to run multiple threads concurrently within a single process. It allows for concurrent execution of tasks, but due to the Global Interpreter Lock (GIL) in Python, only one thread can execute at a time. This makes multithreading best suited for tasks that are part of an application requiring shared data and resources, such as I/O-bound operations.On the other hand, multiprocessing is a concept used to run multiple processes on multiple cores or processors. Each process has its own memory space and resources, which are isolated from other processes. This allows for true parallelism, as multiple processes can run simultaneously on different processors. Multiprocessing is suitable for tasks that are independent and can be executed in parallel, such as CPU-bound operations.\n",
        "\n",
        "10. What are the advantages of using logging in a program\n",
        " -  Logging is used to store records of the state and flow of your program, code, or software, offering several advantages. It provides insights into how the program behaves over time, helping developers understand the flow of execution and the state of variables at different points. Additionally, logging allows for real-time monitoring of applications, making it easier to track performance and identify issues as they arise. When errors occur, logs can provide detailed information about the context in which the error happened, facilitating easier diagnosis and resolution of problems. Furthermore, logging can create an audit trail of actions taken by the program, which is useful for security and compliance purposes. In the event of a failure, logs can be analyzed to determine what went wrong, allowing for better future planning and prevention of similar issues. Overall, logging is an essential tool for maintaining and improving the quality and reliability of software applications.\n",
        "\n",
        "11. What is memory management in Python\n",
        " - In Python, memory allocation and deallocation are handled automatically by the interpreter. This process is managed by a component known as the garbage collector, which frees up memory that is no longer referenced or in use, making it available for other objects. For example, when you assign a value like x = 5, memory is allocated for the integer 5, and x references that memory. If you later change the value to x = 10, a new memory space is allocated for the integer 10, and x now references this new memory. The previous value 5 becomes unreferenced, meaning no variable points to it anymore. The garbage collector identifies such unreferenced memory blocks and removes them, thereby optimizing memory usage and preventing memory leaks.\n",
        "\n",
        "12. What are the basic steps involved in exception handling in Python\n",
        " - Exception handling in Python is used to manage runtime errors, which are logical errors that occur during program execution. The basic steps involved in exception handling include writing the code that may potentially raise an exception within a try block, where you place the execution code you want to monitor for errors. The second step is to use one or more except blocks to handle exceptions that may be raised by the code in the try block, allowing for tailored error handling for different types of exceptions. An optional else block can be included to contain code that executes only if the try block runs successfully without raising any exceptions. Finally, an optional finally block can be used to write code that will execute regardless of whether an exception was raised or not, which is useful for cleanup actions, such as closing files or releasing resources. For example, in a simple code snippet, if a division by zero occurs, the except block will handle the error, while the finally block will execute regardless of the outcome, ensuring that the program completes its execution properly.\n",
        "\n",
        "13. Why is memory management important in Python\n",
        " - Memory management is crucial for resource efficiency, as it ensures that a program uses memory resources optimally. This is particularly important for performance, especially in applications that handle large datasets or require significant computational resources. Python employs automatic garbage collection to manage memory, which helps in reclaiming memory that is no longer in use. Understanding how this garbage collection works enables developers to write better code that minimizes unnecessary memory usage and optimizes performance. Additionally, it helps developers recognize when objects are eligible for garbage collection, allowing for more efficient memory utilization and reducing the risk of memory leaks. Overall, effective memory management contributes to the stability and efficiency of Python applications.\n",
        "\n",
        "14. What is the role of try and except in exception handling\n",
        " - In exception handling, the try block is used to execute code that may potentially raise an exception. If an exception occurs within the try block, it disrupts the normal flow of execution. The except block is then used to handle the exception, allowing the program to continue running without crashing. You can create multiple except blocks to handle different types of exceptions that may arise from the code in the try block. These exceptions can be built-in, such as ArithmeticError, OverflowError, FloatingPointError, ZeroDivisionError, TypeError, and IndentationError, or they can be user-defined exceptions. By using try and except, developers can create robust programs that gracefully handle errors and maintain control over the program's execution flow.\n",
        "\n",
        "15. How does Python's garbage collection system work\n",
        " - Python's garbage collection system is designed to manage memory automatically, helping to reclaim memory that is no longer in use. It primarily employs two mechanisms: reference counting and a cyclic garbage collector. Reference counting keeps track of the number of references to each object in memory, allowing for immediate reclamation of memory when an object's reference count drops to zero. However, this method alone cannot handle circular references, where two or more objects reference each other, preventing their memory from being freed. To address this issue, Python includes a cyclic garbage collector that periodically identifies and collects these circular references. This combination of automatic memory management techniques allows developers to focus on writing code without worrying excessively about memory allocation and deallocation, ultimately improving the efficiency and reliability of Python applications.\n",
        "\n",
        "16. What is the purpose of the else block in exception handling\n",
        " - The purpose of the else block in exception handling is to execute code that should run only if the code in the try block is executed successfully without raising any exceptions. In the try block, you write code that may potentially raise an exception, which is then handled in the except block if an error occurs. The else block is placed after the except block and is executed only when the try block completes successfully, meaning no exceptions were raised. This allows developers to separate the code that should run in the absence of errors from the error-handling logic, making the code cleaner and easier to understand.\n",
        "\n",
        "17. What are the common logging levels in Python\n",
        " - In Python, the logging module defines several common logging levels, each serving a distinct purpose. The lowest level is DEBUG, which provides detailed information about the program's execution, including variable values and messages useful for diagnosing issues. The INFO level conveys that the code is functioning as expected, offering general information about the program's progress and state. The WARNING level indicates that something unexpected has occurred or that there may be a potential issue in the code, serving as a cautionary message. The ERROR level signifies a serious problem, typically indicating that a function has failed to execute properly. Finally, the CRITICAL level represents the highest priority logging level, indicating a critical error that may cause the program to terminate and signaling a severe issue that requires immediate attention. By utilizing these logging levels, developers can effectively categorize and manage log messages, making it easier to monitor and troubleshoot applications.\n",
        "\n",
        "18.  What is the difference between os.fork() and multiprocessing in Python\n",
        " - In Python, both os.fork() and the multiprocessing module are used to create new processes, but they have different characteristics. The os.fork() function is a low-level system call that creates a new process by duplicating the calling process. The new process, known as the child process, is an exact copy of the parent process, with the exception of the return value of os.fork(), which allows the program to determine whether it is running in the parent or child process. In contrast, the multiprocessing module provides a higher-level abstraction for creating and managing processes in Python. It offers a more user-friendly interface for parallel execution and includes features for inter-process communication, making it easier to share data and synchronize processes. Overall, while os.fork() is suitable for low-level process creation, the multiprocessing module is generally preferred for more complex applications that require robust process management and communication.\n",
        "\n",
        "19. What is the importance of closing a file in Python\n",
        " - Closing a file is an important aspect of file handling in Python. Operating systems have a limited number of file descriptors available, and each open file consumes one of these descriptors. If too many files are left open, the program may run out of available descriptors, leading to errors when attempting to open new files. Additionally, when you write data to a file, it may not be immediately written to disk; instead, it is often buffered in memory for efficiency. Closing the file ensures that all buffered data is flushed (written) to the file, preventing potential data loss. To ensure that files are closed properly, it is recommended to use the with statement (context manager) when working with files. This approach automatically handles closing the file, even if an error occurs during file operations, thereby promoting better resource management and reducing the risk of file-related issues.\n",
        "\n",
        "20. What is the difference between file.read() and file.readline() in Python\n",
        " - Both file.read() and file.readline() are used in file handling when a file is opened in read mode, but they serve different purposes. The file.read() method reads the entire content of the file at once and returns it as a single string. If the file is large, this can consume a significant amount of memory. You can also specify the number of bytes to read as an argument; if no argument is provided, it reads the entire file. In contrast, the file.readline() method reads a single line from the file at a time. It returns the next line as a string, including the newline character (\\n) at the end of the line. If the end of the file is reached, it returns an empty string. This makes file.readline() more memory-efficient for processing large files line by line, while file.read() is useful when you need to access the entire content at once.\n",
        "\n",
        "21. What is the logging module in Python used for\n",
        " - The logging module in Python is used to store records of the state and flow of your program, code, or software. It is invaluable for understanding, monitoring, and debugging your code, as it provides insights into how the program behaves over time. The logging module supports different levels of logging, allowing developers to categorize messages based on their severity, such as DEBUG, INFO, WARNING, ERROR, and CRITICAL. Additionally, you can customize the format of log messages to include timestamps, log levels, module names, and more, which makes it easier to read and analyze logs. By utilizing the logging module, developers can effectively track the execution of their applications and identify issues more efficiently.\n",
        "\n",
        "22. What is the os module in Python used for in file handling\n",
        " - The os module in Python provides a way to interact with the operating system and perform various file handling operations. It offers a range of functions that facilitate working with files and directories, making it easier to manage file paths, create and delete files, and perform other file-related tasks, such as creating or removing directories. With the os module, developers can navigate the file system, retrieve information about files, and manipulate file attributes, thereby enhancing the efficiency and flexibility of file handling in their applications.\n",
        "\n",
        "23. What are the challenges associated with memory management in Python\n",
        " - Memory management in Python, while largely automated through its garbage collection system, still presents several challenges like  A memory leak occurs when a program allocates memory but fails to release it after use, leading to increased memory consumption over time and Memory fragmentation occurs when free memory is split into small, non-contiguous blocks, making it difficult to allocate larger blocks of memory.\n",
        "\n",
        "24. How do you raise an exception manually in Python\n",
        " - In Python, you can raise an exception manually using the raise keyword, which is a reserved word used in exception handling. There are situations where you may need to create a logical structure that requires raising an exception based on user input or other suspicious conditions in the code. In such cases, you can use the raise keyword to trigger an exception manually. This allows you to handle the exception in an except block, enabling you to manage errors gracefully and provide appropriate feedback to the user. You can also raise built-in exceptions or create custom exceptions to suit your specific needs.\n",
        "\n",
        "25. Why is it important to use multithreading in certain applications?\n",
        " - the multithreading is an important technique for improving the performance, responsiveness, and efficiency of applications, particularly in scenarios involving I/O-bound operations, user interfaces, real-time processing, and resource sharing. By leveraging multithreading, developers can create applications that are more capable of handling concurrent tasks, leading to a better user experience and more efficient resource utilization. However, it is essential to manage threads carefully to avoid issues such as race conditions, deadlocks, and increased complexity in code maintenance.\n",
        "\n",
        "\n",
        "\n"
      ],
      "metadata": {
        "id": "vz2KAiylwwOX"
      }
    },
    {
      "cell_type": "code",
      "execution_count": null,
      "metadata": {
        "id": "8-fOoYE7nBik",
        "colab": {
          "base_uri": "https://localhost:8080/"
        },
        "outputId": "5accd04b-a945-4d2d-9c8f-53e179ba84db"
      },
      "outputs": [
        {
          "output_type": "stream",
          "name": "stdout",
          "text": [
            "Welcome to python Language\n"
          ]
        }
      ],
      "source": [
        "# 1. How can you open a file for writing in Python and write a string to it\n",
        "with open(\"text.txt\",'w') as file:\n",
        "  file.write('Welcome to python Language')\n",
        "\n",
        "with open('text.txt','r') as file:\n",
        "  print(file.read())"
      ]
    },
    {
      "cell_type": "code",
      "source": [
        "# 2. Write a Python program to read the contents of a file and print each line\n",
        "with open('text.txt','w') as fh:\n",
        "  fh.writelines(['Python','\\njava','\\nc++','\\njavascript'])\n",
        "\n",
        "with open('text.txt') as fh:\n",
        "  for i in fh:\n",
        "    print(i)"
      ],
      "metadata": {
        "colab": {
          "base_uri": "https://localhost:8080/"
        },
        "id": "uAMP_W9YgILF",
        "outputId": "0c3d3362-471f-4068-919c-3da42aff98a1"
      },
      "execution_count": 75,
      "outputs": [
        {
          "output_type": "stream",
          "name": "stdout",
          "text": [
            "Python\n",
            "\n",
            "java\n",
            "\n",
            "c++\n",
            "\n",
            "javascript\n"
          ]
        }
      ]
    },
    {
      "cell_type": "code",
      "source": [
        "# 3. How would you handle a case where the file doesn't exist while trying to open it for reading\n",
        "try:\n",
        "  with open(\"text_file.txt\",'r') as fh:\n",
        "    print(fh.read())\n",
        "except FileNotFoundError as e:\n",
        "  print(\"File not found First create file \",e)"
      ],
      "metadata": {
        "colab": {
          "base_uri": "https://localhost:8080/"
        },
        "id": "Z1oSkyHchVlV",
        "outputId": "2ed02fe5-0fda-4a8e-f2ee-cedc4039cca1"
      },
      "execution_count": null,
      "outputs": [
        {
          "output_type": "stream",
          "name": "stdout",
          "text": [
            "File not found First create file  [Errno 2] No such file or directory: 'text_file.txt'\n"
          ]
        }
      ]
    },
    {
      "cell_type": "code",
      "source": [
        "# 4.  Write a Python script that reads from one file and writes its content to another file\n",
        "fh1=open('text.txt','r')\n",
        "fh2=open('text1.txt','w')\n",
        "\n",
        "data=fh1.read()\n",
        "fh2.write(data)\n",
        "fh1.close()\n",
        "fh2.close()\n",
        "\n",
        "with open('text1.txt','r') as fh:\n",
        "  print(fh.read())"
      ],
      "metadata": {
        "colab": {
          "base_uri": "https://localhost:8080/"
        },
        "id": "q5PMX_Hhh4xE",
        "outputId": "23857787-d556-4386-8028-45d7c908e653"
      },
      "execution_count": 76,
      "outputs": [
        {
          "output_type": "stream",
          "name": "stdout",
          "text": [
            "Python\n",
            "java\n",
            "c++\n",
            "javascript\n"
          ]
        }
      ]
    },
    {
      "cell_type": "code",
      "source": [
        "#  5. How would you catch and handle division by zero error in Python\n",
        "try:\n",
        "  print(10/0)\n",
        "except ZeroDivisionError as e:\n",
        "  print(\"Denominator can not be zero:\",e)\n"
      ],
      "metadata": {
        "colab": {
          "base_uri": "https://localhost:8080/"
        },
        "id": "0ncfUuHGi6zD",
        "outputId": "36c053b3-6e8e-4f53-e7b2-980a4b3c5130"
      },
      "execution_count": 77,
      "outputs": [
        {
          "output_type": "stream",
          "name": "stdout",
          "text": [
            "Denominator can not be zero: division by zero\n"
          ]
        }
      ]
    },
    {
      "cell_type": "code",
      "source": [
        "# 6.  Write a Python program that logs an error message to a log file when a division by zero exception occurs\n",
        "import logging\n",
        "\n",
        "logging.basicConfig(\n",
        "    filename='program.log',\n",
        "    level=logging.ERROR,\n",
        "    format='%(asctime)s - %(levelname)s - %(message)s'\n",
        ")\n",
        "\n",
        "try:\n",
        "    result = 10 / 0\n",
        "except ZeroDivisionError as e:\n",
        "    logging.error('Denominator cannot be zero: %s', e)\n"
      ],
      "metadata": {
        "colab": {
          "base_uri": "https://localhost:8080/"
        },
        "id": "lFjja9zvnwhi",
        "outputId": "91199f26-c096-45ba-90b0-1133e81c3de0"
      },
      "execution_count": null,
      "outputs": [
        {
          "output_type": "stream",
          "name": "stderr",
          "text": [
            "ERROR:root:Denominator cannot be zero: division by zero\n"
          ]
        }
      ]
    },
    {
      "cell_type": "code",
      "source": [
        "# # 7.  How do you log information at different levels (INFO, ERROR, WARNING) in Python using the logging module\n",
        "import logging\n",
        "\n",
        "logging.basicConfig(\n",
        "    filename='program.log',\n",
        "    level=logging.INFO,\n",
        "    format='%(asctime)s - %(levelname) : %(message)s'\n",
        ")\n",
        "logging.info(\"Inside a info level\")\n",
        "logging.error(\"Inside error level\")\n",
        "logging.warning(\"Inside warning level\")\n",
        "logging.shutdown()"
      ],
      "metadata": {
        "id": "rs-NSbNjozxx",
        "colab": {
          "base_uri": "https://localhost:8080/"
        },
        "outputId": "7414a621-f347-46b6-c540-2dabb0d7bd56"
      },
      "execution_count": 5,
      "outputs": [
        {
          "output_type": "stream",
          "name": "stderr",
          "text": [
            "WARNING:root:Inside warning level\n"
          ]
        }
      ]
    },
    {
      "cell_type": "code",
      "source": [
        "#  8. Write a program to handle a file opening error using exception handling\n",
        "try:\n",
        "  fh=open('text.txt','r')\n",
        "except FileNotFoundError as e:\n",
        "  print(\"File Not Found and raise exception \",e)\n",
        "except Exception as e:\n",
        "  print(\"Exception is raise :\",e)"
      ],
      "metadata": {
        "id": "h5K0w3xKcHrG",
        "colab": {
          "base_uri": "https://localhost:8080/"
        },
        "outputId": "16fdc37c-f0b9-4d3d-e57c-111cd697b87c"
      },
      "execution_count": 6,
      "outputs": [
        {
          "output_type": "stream",
          "name": "stdout",
          "text": [
            "File Not Found and raise exception  [Errno 2] No such file or directory: 'text.txt'\n"
          ]
        }
      ]
    },
    {
      "cell_type": "code",
      "source": [
        "# 9.  How can you read a file line by line and store its content in a list in Python\n",
        "with open('text.txt','w') as fh:\n",
        "  fh.writelines(['Python use in DS\\n','Java use in Development\\n','AWS use in data storage\\n','C++ use in games\\n'])\n",
        "\n",
        "with open('text.txt','r') as fh:\n",
        "  l=[]\n",
        "  for i in fh:\n",
        "    print(i)\n",
        "    l.append(i)\n",
        "print(l)"
      ],
      "metadata": {
        "colab": {
          "base_uri": "https://localhost:8080/"
        },
        "id": "D1QLV2DXgQfW",
        "outputId": "9328089f-7fb5-49a7-951b-5ada81f5716e"
      },
      "execution_count": 84,
      "outputs": [
        {
          "output_type": "stream",
          "name": "stdout",
          "text": [
            "Python use in DS\n",
            "\n",
            "Java use in Development\n",
            "\n",
            "AWS use in data storage\n",
            "\n",
            "C++ use in games\n",
            "\n",
            "['Python use in DS\\n', 'Java use in Development\\n', 'AWS use in data storage\\n', 'C++ use in games\\n']\n"
          ]
        }
      ]
    },
    {
      "cell_type": "code",
      "source": [
        "#  10 How can you append data to an existing file in Python\n",
        "with open('text.txt','a') as fh:\n",
        "  fh.write(\"javascript use in web\")\n",
        "\n",
        "with open('text.txt','r' ) as fh:\n",
        "  print(fh.read())"
      ],
      "metadata": {
        "colab": {
          "base_uri": "https://localhost:8080/"
        },
        "id": "gMCk7O3Ehk9W",
        "outputId": "15e201e7-67e3-40ce-b5cf-8a6ec9017255"
      },
      "execution_count": 85,
      "outputs": [
        {
          "output_type": "stream",
          "name": "stdout",
          "text": [
            "Python use in DS\n",
            "Java use in Development\n",
            "AWS use in data storage\n",
            "C++ use in games\n",
            "javascript use in web\n"
          ]
        }
      ]
    },
    {
      "cell_type": "code",
      "source": [
        "# 11. Write a Python program that uses a try-except block to handle an error when attempting to access a dictionary key that doesn't exist\n",
        "d={'name':'Akash','Age':25,'Salary':250000}\n",
        "try:\n",
        "  print(d['modile_no'])\n",
        "except KeyError as e:\n",
        "  print(\"Key doesn't exists :\",e)"
      ],
      "metadata": {
        "colab": {
          "base_uri": "https://localhost:8080/"
        },
        "id": "ryiLNddhiWkW",
        "outputId": "5b851af7-a3aa-4707-85e9-df1b15fe4485"
      },
      "execution_count": 87,
      "outputs": [
        {
          "output_type": "stream",
          "name": "stdout",
          "text": [
            "Key doesn't exists : 'modile_no'\n"
          ]
        }
      ]
    },
    {
      "cell_type": "code",
      "source": [
        "# 12.  Write a program that demonstrates using multiple except blocks to handle different types of exceptions\n",
        "try:\n",
        "  n=eval(input(\"Enter the Denominator :\"))\n",
        "  print(10/n)\n",
        "except ZeroDivisionError as e:\n",
        "  print(\"Denominator cann't be Zero :\",e)\n",
        "except TypeError as e:\n",
        "  print(\"Type of Denominator is always int :\",e)\n",
        "except Exception as e:\n",
        "  print(\"Exeption raise \",e)"
      ],
      "metadata": {
        "colab": {
          "base_uri": "https://localhost:8080/"
        },
        "id": "I64GSLDdi70n",
        "outputId": "d37bce5e-db89-418a-d7de-568235c6a7dc"
      },
      "execution_count": 91,
      "outputs": [
        {
          "output_type": "stream",
          "name": "stdout",
          "text": [
            "Enter the Denominator :0\n",
            "Denominator cann't be Zero : division by zero\n"
          ]
        }
      ]
    },
    {
      "cell_type": "code",
      "source": [
        "# 13.  How would you check if a file exists before attempting to read it in Python\n",
        "import os\n",
        "\n",
        "if os.path.exists('text3.txt'):\n",
        "  with open('text.txt','r') as fh:\n",
        "    print(fh.read())\n",
        "else:\n",
        "  print(\"File doesn't exists\")"
      ],
      "metadata": {
        "colab": {
          "base_uri": "https://localhost:8080/"
        },
        "id": "StoOGfAzj11l",
        "outputId": "9d04a399-3dc2-4d00-9244-84a1ae68d271"
      },
      "execution_count": 92,
      "outputs": [
        {
          "output_type": "stream",
          "name": "stdout",
          "text": [
            "File doesn't exists\n"
          ]
        }
      ]
    },
    {
      "cell_type": "code",
      "source": [
        "# 14.  Write a program that uses the logging module to log both informational and error messages\n",
        "import logging\n",
        "\n",
        "logging.basicConfig(\n",
        "    filename='program1.log',\n",
        "    level=logging.INFO,\n",
        "    format=\"%(asctime)s - %(levelname)s : %(message)s\"\n",
        ")\n",
        "try:\n",
        "  n=eval(input(\"Enter the Denominator :\"))\n",
        "  logging.info(f\"Denominator value is :{n}\")\n",
        "  print(10/n)\n",
        "except ZeroDivisionError as e:\n",
        "  logging.error(f\"Denominator value is :{n}\")\n",
        "  print(\"Denominator cann't Zero :\",e)\n",
        "except TypeError as e:\n",
        "  logging.error(f\"Denominator value is :{n}\")\n",
        "  print(\"Type of Denominator is always int :\",e)\n",
        "except Exception as e:\n",
        "  logging.error(f\"Denominator value is :{n}\")\n",
        "  print(\"Exeption raise \",e)"
      ],
      "metadata": {
        "colab": {
          "base_uri": "https://localhost:8080/"
        },
        "id": "OnJa0mMw6KZv",
        "outputId": "09cd2c81-e929-4a88-884b-92394ce88a78"
      },
      "execution_count": 20,
      "outputs": [
        {
          "output_type": "stream",
          "name": "stdout",
          "text": [
            "Enter the Denominator :0\n",
            "Denominator cann't Zero : division by zero\n"
          ]
        }
      ]
    },
    {
      "cell_type": "code",
      "source": [
        "#  15. Write a Python program that prints the content of a file and handles the case when the file is empty\n",
        "import os\n",
        "\n",
        "file1='text4.txt'\n",
        "if os.path.exists(file1):\n",
        "  if os.path.getsize(file1)!=0:\n",
        "    with open('text.txt','r') as fh:\n",
        "      print(fh.read())\n",
        "  else:\n",
        "    print(\"File is empty!\")\n",
        "else:\n",
        "  print(\"File does not exist\")"
      ],
      "metadata": {
        "colab": {
          "base_uri": "https://localhost:8080/"
        },
        "id": "yfDWdvcNBQze",
        "outputId": "0b808c17-0a98-48ae-96cd-7ac20589af0f"
      },
      "execution_count": 93,
      "outputs": [
        {
          "output_type": "stream",
          "name": "stdout",
          "text": [
            "File is empty!\n"
          ]
        }
      ]
    },
    {
      "cell_type": "code",
      "source": [
        "# 16. Demonstrate how to use memory profiling to check the memory usage of a small program\n",
        "import psutil\n",
        "import os\n",
        "import time\n",
        "\n",
        "def memory_usage():\n",
        "    # Get the current process\n",
        "    process = psutil.Process(os.getpid())\n",
        "    # Return the memory usage in MB\n",
        "    return process.memory_info().rss / (1024 * 1024)\n",
        "\n",
        "def my_function():\n",
        "    # Simulate some memory usage\n",
        "    a = [i for i in range(1000000)]  # Allocate a large list\n",
        "    b = [i * 2 for i in a]           # Create another list based on 'a'\n",
        "    time.sleep(2)                    # Simulate some processing time\n",
        "    return b\n",
        "\n",
        "print(f\"Initial Memory Usage: {memory_usage():.2f} MB\")\n",
        "result = my_function()  # Call the function\n",
        "print(f\"Memory Usage After Function Call: {memory_usage():.2f} MB\")\n"
      ],
      "metadata": {
        "colab": {
          "base_uri": "https://localhost:8080/"
        },
        "id": "AegMI--tERRR",
        "outputId": "3598673b-83b6-44f1-a287-84f5be35a619"
      },
      "execution_count": 31,
      "outputs": [
        {
          "output_type": "stream",
          "name": "stdout",
          "text": [
            "Initial Memory Usage: 374.96 MB\n",
            "Memory Usage After Function Call: 619.67 MB\n"
          ]
        }
      ]
    },
    {
      "cell_type": "code",
      "source": [
        "# 17. Write a Python program to create and write a list of numbers to a file, one number per line\n",
        "l=[]\n",
        "n=int(input(\"Enter the number of elements:\"))\n",
        "for i in range(n):\n",
        "  l.append(input(\"Enter the number \")+'\\n')\n",
        "with open('text5.txt','w') as fh:\n",
        "  fh.writelines(l)\n",
        "\n",
        "with open('text5.txt','r') as fh:\n",
        "  print(\"the list of number of file is :\")\n",
        "  print(fh.read())\n"
      ],
      "metadata": {
        "colab": {
          "base_uri": "https://localhost:8080/"
        },
        "id": "TIyDJt8RHOD9",
        "outputId": "14654b8c-d91c-45ac-962d-e8a14af73dc7"
      },
      "execution_count": 95,
      "outputs": [
        {
          "output_type": "stream",
          "name": "stdout",
          "text": [
            "Enter the number of elements:5\n",
            "Enter the number 10\n",
            "Enter the number 20\n",
            "Enter the number 30\n",
            "Enter the number 40\n",
            "Enter the number 50\n",
            "the list of number of file is :\n",
            "10\n",
            "20\n",
            "30\n",
            "40\n",
            "50\n",
            "\n"
          ]
        }
      ]
    },
    {
      "cell_type": "code",
      "source": [
        "# 18. How would you implement a basic logging setup that logs to a file with rotation after 1MB\n",
        "import logging\n",
        "from logging.handlers import RotatingFileHandler\n",
        "\n",
        "# Set up basic configuration for logging\n",
        "logging.basicConfig(\n",
        "    level=logging.DEBUG,\n",
        "    format='%(asctime)s - %(levelname)s - %(message)s',\n",
        "    handlers=[\n",
        "        RotatingFileHandler(\"file.log\", maxBytes=1 * 1024 * 1024, backupCount=5)  # 1MB rotation\n",
        "    ]\n",
        ")\n",
        "\n",
        "# Example logging messages\n",
        "logging.debug(\"This is a debug message.\")\n",
        "logging.info(\"This is an info message.\")\n",
        "logging.warning(\"This is a warning message.\")\n",
        "logging.error(\"This is an error message.\")\n",
        "logging.critical(\"This is a critical message.\")"
      ],
      "metadata": {
        "colab": {
          "base_uri": "https://localhost:8080/"
        },
        "id": "0WZCDM3Gac1h",
        "outputId": "1a36d5f0-4e4d-43c9-cba9-e379f1cdb3ca"
      },
      "execution_count": 96,
      "outputs": [
        {
          "output_type": "stream",
          "name": "stderr",
          "text": [
            "WARNING:root:This is a warning message.\n",
            "ERROR:root:This is an error message.\n",
            "CRITICAL:root:This is a critical message.\n"
          ]
        }
      ]
    },
    {
      "cell_type": "code",
      "source": [
        "# 19.  Write a program that handles both IndexError and KeyError using a try-except block\n",
        "def access_data(data):\n",
        "  try:\n",
        "    print(f\"The Value is {data[5]}\")\n",
        "  except IndexError as e:\n",
        "    print(\"Index not exists :\",e)\n",
        "  except KeyError as e:\n",
        "    print(\"Key doesn't exists :\",e)\n",
        "\n",
        "access_data([1,2,3,4])\n",
        "access_data({1:'Prahlad',2:\"Harsh\",3:\"Karan\"})"
      ],
      "metadata": {
        "colab": {
          "base_uri": "https://localhost:8080/"
        },
        "id": "0JK6s03Rb3vB",
        "outputId": "7f29fe56-facd-4db4-ee3b-105966cd92c4"
      },
      "execution_count": 40,
      "outputs": [
        {
          "output_type": "stream",
          "name": "stdout",
          "text": [
            "Index not exists : list index out of range\n",
            "Key doesn't exists : 5\n"
          ]
        }
      ]
    },
    {
      "cell_type": "code",
      "source": [
        "# 20.  How would you open a file and read its contents using a context manager in Python\n",
        "with open('text.txt','r') as fh:\n",
        "  print(fh.read())"
      ],
      "metadata": {
        "colab": {
          "base_uri": "https://localhost:8080/"
        },
        "id": "AtGFmKSmdfpw",
        "outputId": "a80b3d5c-7120-421b-9464-f0b5a74ac7ff"
      },
      "execution_count": 60,
      "outputs": [
        {
          "output_type": "stream",
          "name": "stdout",
          "text": [
            "Python use in DS\n",
            "Java use in Development\n",
            "AWS use in data storage\n",
            "C++ use in games\n",
            "javascript use in web\n"
          ]
        }
      ]
    },
    {
      "cell_type": "code",
      "source": [
        "# 21. Write a Python program that reads a file and prints the number of occurrences of a specific word\n",
        "\n",
        "n=input(\"Enter the word :\")\n",
        "count=0\n",
        "with open(\"text.txt\",'r') as fh:\n",
        "  for i in fh:\n",
        "    fh1=i.split()\n",
        "    # print(fh1)\n",
        "    if n in fh1:\n",
        "      count+=1\n",
        "print(f\"THe number occurence of {n} is :{count}\")"
      ],
      "metadata": {
        "colab": {
          "base_uri": "https://localhost:8080/"
        },
        "id": "AIpiE5TreVRA",
        "outputId": "b8587051-8ff2-4e65-cde2-b8e337ad46cf"
      },
      "execution_count": 62,
      "outputs": [
        {
          "output_type": "stream",
          "name": "stdout",
          "text": [
            "Enter the word :in\n",
            "THe number occurence of in is :5\n"
          ]
        }
      ]
    },
    {
      "cell_type": "code",
      "source": [
        "# 22.  How can you check if a file is empty before attempting to read its contents\n",
        "import os\n",
        "\n",
        "if os.path.getsize('text4.txt')!=0:\n",
        "  with open('text4.txt','r') as fh:\n",
        "    print(fh.read())\n",
        "else:\n",
        "  print(\"File are Empty\")"
      ],
      "metadata": {
        "colab": {
          "base_uri": "https://localhost:8080/"
        },
        "id": "59iyNH0-fZww",
        "outputId": "e7ba78f1-b12a-4585-e82e-eec25be574d8"
      },
      "execution_count": 68,
      "outputs": [
        {
          "output_type": "stream",
          "name": "stdout",
          "text": [
            "File does not exists\n"
          ]
        }
      ]
    },
    {
      "cell_type": "code",
      "source": [
        "# 23. Write a Python program that writes to a log file when an error occurs during file handling.\n",
        "import logging\n",
        "logging.basicConfig(filename='program1.log',\n",
        "                    level=logging.ERROR,\n",
        "                    format=\"%(asctime) - %(levelname) : %{message}\")\n",
        "\n",
        "try:\n",
        "  n=eval(input(\"Enter the denominator :\"))\n",
        "  print(10/n)\n",
        "except ZeroDivisionError as e:\n",
        "  logging.error(f\"Denominator is {n} it can not be Zero :{e}\")\n",
        "  print(\"Denominator is zero\")\n",
        "except TypeError as e:\n",
        "  logging.error(f\"Denominator is {n} it must be int :{e}\")\n",
        "  print(\"Denominator type invalid \")\n",
        "except Exception as e:\n",
        "  logging.error(f\"Exception raise :{e}\")\n"
      ],
      "metadata": {
        "colab": {
          "base_uri": "https://localhost:8080/"
        },
        "id": "oWACw61JivXe",
        "outputId": "56dd65a2-b2ee-488c-d299-acbd0c75be10"
      },
      "execution_count": 71,
      "outputs": [
        {
          "name": "stdout",
          "output_type": "stream",
          "text": [
            "Enter the denominator :0\n"
          ]
        },
        {
          "output_type": "stream",
          "name": "stderr",
          "text": [
            "ERROR:root:Denominator is 0 it can not be Zero :division by zero\n"
          ]
        },
        {
          "output_type": "stream",
          "name": "stdout",
          "text": [
            "Denominator is zero\n"
          ]
        }
      ]
    },
    {
      "cell_type": "code",
      "source": [],
      "metadata": {
        "id": "uwSVtRhTmEKt"
      },
      "execution_count": null,
      "outputs": []
    }
  ]
}