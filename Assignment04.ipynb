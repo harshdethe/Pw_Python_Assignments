{
  "nbformat": 4,
  "nbformat_minor": 0,
  "metadata": {
    "colab": {
      "provenance": []
    },
    "kernelspec": {
      "name": "python3",
      "display_name": "Python 3"
    },
    "language_info": {
      "name": "python"
    }
  },
  "cells": [
    {
      "cell_type": "markdown",
      "source": [
        "1. What is Object-Oriented Programming (OOP)\n",
        " - Object-Oriented Programming (OOP) is a programming paradigm used in Python and other languages. In OOP, we create classes and objects, where classes serve as blueprints and objects are real entities. We can also refer to objects as instances of a class. Object-Oriented Programming provides a way to encapsulate data and methods, enhancing security when accessing sensitive information.\n",
        "\n",
        "2.  What is a class in OOP\n",
        " - A class is a concept used in Object-Oriented Programming (OOP). A class serves as a blueprint for creating objects, and it does not occupy space in memory itself; rather, objects, which are real instances of the class, occupy memory space. We can create a class using the 'class' keyword, and it contains attributes and methods.\n",
        "\n",
        "3. What is an object in OOP\n",
        " - An object in Object-Oriented Programming (OOP) is like a real entity that contains its own properties and functionalities. In OOP, we create classes and objects, where a class serves as a blueprint for creating objects. This means that multiple objects can be created from a single class template, and each object has its own unique properties and functionalities. Every object occupies memory.\n",
        "\n",
        "4.  What is the difference between abstraction and encapsulation\n",
        " - The difference between abstraction and encapsulation is that abstraction involves hiding complexity and showing only the necessary features, typically applicable in its subclasses. In contrast, encapsulation combines attributes and methods into a single entity and includes access modifiers that restrict direct access to or modification of the data.\n",
        "\n",
        "5. What are dunder methods in Python\n",
        " - Dunder methods, short for \"double underscore\" methods, are special methods defined by built-in classes in Python. These methods allow for the creation of custom objects. There are different types of dunder methods; for example, __init__ is used to initialize the attributes of an object and is invoked when the object is created. Another example is __str__, which provides a string representation of an object and is invoked when using the print function.\n",
        "\n",
        "6. Explain the concept of inheritance in OOP\n",
        " - Inheritance is an important concept in Object-Oriented Programming (OOP) that allows us to derive a new class from an existing class. There are different types of inheritance. Single inheritance involves deriving a new class from a single parent class. Multilevel inheritance allows a new class to be derived from another derived class, forming a chain of inheritance. Multiple inheritance enables a new class to be derived from more than one parent class. Hierarchical inheritance occurs when multiple child classes are derived from a single parent class. Lastly, hybrid inheritance allows for the combination of more than one type of inheritance in a single program.\n",
        "\n",
        "7. What is polymorphism in OOP\n",
        " - Polymorphism refers to the ability of a single entity to take on multiple forms or states. In Object-Oriented Programming (OOP), it describes how an object can take on different forms depending on the data. There are two types of polymorphism: compile-time polymorphism and runtime polymorphism. Compile-time polymorphism involves determining which method or operation to execute during compilation, typically through method or operator overloading. However, true method overloading is not supported in Python; similar behavior can be achieved using default or variable arguments. On the other hand, runtime polymorphism occurs when the behavior of a method is determined while the program is running, based on the object that is calling it. In Python, this can be achieved through method overriding.\n",
        "\n",
        "8. How is encapsulation achieved in Python\n",
        " - Encapsulation refers to the bundling of attributes and methods into a single entity, which helps protect important data from being changed directly and keeps the code secure and organized. In Python, encapsulation is achieved through the use of access modifiers, which define how class attributes and methods can be accessed from outside the class. There are three types of access modifiers: public, private, and protected. Public attributes and methods can be accessed both inside and outside the class. Private attributes and methods are accessible only within the class itself, while protected attributes and methods can be accessed within the class and by subclasses. This mechanism helps maintain the integrity of the data and promotes better code organization.\n",
        "\n",
        "9. What is a constructor in Python\n",
        " - In Python, a constructor is a special method that is invoked at the time of object creation. The __init__ method serves as the constructor and is also referred to as a special or dunder method. It is generally used to initialize the attributes of a class, allowing for the setup of an object's initial state when it is created.\n",
        "\n",
        "10. What are class and static methods in Python\n",
        " - A class method is bound to the class itself and does not have any connection to the instances of the class. It takes cls as its first argument instead of self and is defined using the @classmethod decorator. Class methods are typically called using class references. On the other hand, a static method belongs to the class but does not access class members or instance properties. Static methods can be called directly without using any reference to the class or its instances, and they are defined using the @staticmethod decorator.\n",
        "\n",
        "11. What is method overloading in Python\n",
        "  - Method overloading is a concept where a class has multiple methods with the same name but different parameters. It is a part of compile-time polymorphism. However, in the strict sense, Python does not support true method overloading. Instead, we can achieve similar behavior using default or variable arguments, allowing a single method to handle different types or numbers of parameters.\n",
        "\n",
        "12. What is method overriding in OOP\n",
        " - Method overriding is a concept in Object-Oriented Programming (OOP) where a child class contains a method with the same name and parameters as a method that is already present in its parent class. When we create an object of the child class and invoke the overridden method, the child class's method will be executed instead of the parent class's method. This behavior is a part of runtime polymorphism, allowing for dynamic method resolution based on the object's class at runtime.\n",
        "\n",
        "13. What is a property decorator in Python\n",
        " - The property decorator in Python allows you to define class methods as attributes. It includes three components: the getter, setter, and deleter. The getter is used to retrieve the value of the property, the setter is used to set the value of the property, and the deleter is used to delete the property value. By using the property decorator, you can encapsulate the access to an attribute, providing a controlled interface for getting, setting, and deleting its value.\n",
        "\n",
        "14. Why is polymorphism important in OOP\n",
        " - Polymorphism is important in Object-Oriented Programming (OOP) because it allows a single entity, such as a method or object, to take on multiple forms. This capability enables developers to write flexible and reusable code, as it allows objects to behave differently based on their specific type or context. With polymorphism, we can write functions that work with any object that implements a specific method, promoting code reusability. In Python, polymorphism enhances the language's flexibility and expressiveness, making it easier to write and maintain code.\n",
        "\n",
        "15.  What is an abstract class in Python\n",
        " - An abstract class in Python is a class that cannot be instantiated on its own and is designed to serve as a blueprint for other classes. It can contain abstract methods, which are methods that are declared but do not have any implementation. Subclasses that inherit from an abstract class are required to implement these abstract methods in order to be instantiated. This mechanism enforces a contract for subclasses, ensuring that they provide specific functionality.\n",
        "\n",
        "16. What are the advantages of OOP\n",
        " - Object-Oriented Programming (OOP) enhances code organization, reusability, and maintainability. It includes several advanced features, such as encapsulation, which combines attributes and methods into a single entity. This encapsulation prevents direct access to data and method calls, promoting data protection and integrity. Another key feature is inheritance, which allows the creation of a new class based on an existing class, eliminating the need to create a class from scratch. This promotes code reusability and simplifies the development process by enabling the reuse of existing code.\n",
        "\n",
        "17.  What is the difference between a class variable and an instance variable\n",
        " - A class variable is a variable that is part of the class itself and is shared among all instances of that class. It can be accessed using the class reference, and there is usually no need to use instance references to access it. In contrast, instance variables are specific to each instance of the class, meaning that every instance can have its own unique value for that variable. Instance variables are typically defined using the instance reference, such as self, and can only be accessed through the specific object that contains them.\n",
        "\n",
        "18. What is multiple inheritance in Python\n",
        " - Multiple inheritance is a feature in Python where a new class is defined based on more than one existing class. This allows the child class to access the properties and functionality of multiple parent classes, promoting code reusability. However, multiple inheritance can lead to the \"diamond problem,\" which creates ambiguity in the execution of parent methods. This ambiguity arises when a method is inherited from multiple parent classes. To resolve this issue, Python uses the Method Resolution Order (MRO) algorithm, which determines the order in which classes are searched for a method. According to MRO, the method from the class that is inherited first in the derived class will be called.\n",
        "\n",
        "19. Explain the purpose of ‘’__str__’ and ‘__repr__’ ‘ methods in Python\n",
        " - The __str__ and __repr__ methods are known as \"dunder\" methods (short for \"double underscore\") in Python. The __str__ method is used to return a string representation of an object that is intended to be user-friendly. This method is invoked when the print() function is called on an object. In contrast, the __repr__ method is used to return a more formal string representation of an object, which is intended for developers and can often be used to recreate the object. This method is invoked when the repr() function is called or when an object is displayed in the interactive interpreter. While __str__ is focused on readability, __repr__ aims for unambiguous representation.\n",
        "\n",
        "20.  What is the significance of the ‘super()’ function in Python\n",
        " - The super() function is significant in inheritance within Object-Oriented Programming (OOP) in Python. It is used to call properties or methods of the parent class from a child class. For example, when both the parent and child classes have their own constructor methods, creating an object of the child class will invoke the child constructor. In this scenario, the parent constructor would not be called automatically. To address this, the super() function can be used within the child class's constructor to explicitly call the parent class's constructor. This allows the child class to inherit and utilize the properties and methods defined in the parent class, promoting code reuse and maintaining the integrity of the class hierarchy.\n",
        "\n",
        "21. What is the significance of the __del__ method in Python\n",
        " -  The __del__ method is a special method in Python that is invoked when an object is about to be destroyed. Its significance lies in providing a mechanism to release any system resources that the object has acquired during its lifetime, such as file handles, network connections, or locks. The __del__ method is called when the del keyword is used on an object, indicating that there are no more references to the object in the program and that it is eligible for garbage collection. By implementing the __del__ method, developers can ensure that resources are properly cleaned up, preventing potential resource leaks.\n",
        "\n",
        "22.  What is the difference between @staticmethod and @classmethod in Python\n",
        " - @staticmethod is a decorator used to define a static method within a class. A static method is not bound to the class or its instances, meaning it does not require a reference to either. It can be called directly using the class name, and it does not have access to the instance (self) or class (cls) references. Static methods are typically used for utility functions that perform a task in isolation.On the other hand, @classmethod is a decorator used to define a class method. A class method is bound to the class itself and requires a reference to the class (usually named cls) instead of an instance reference (self). This allows class methods to access and modify class-level attributes. Class methods can be called using the class name or an instance of the class, but they always receive the class reference as the first argument.\n",
        "\n",
        "23.  How does polymorphism work in Python with inheritance\n",
        " - Polymorphism in Python, particularly in the context of inheritance, allows objects of different classes to be treated as objects of a common superclass. This capability enables a single interface to represent different underlying forms (data types), which is a key feature of Object-Oriented Programming (OOP) that promotes flexibility and reusability. In Python, polymorphism is often achieved through method overriding, where a subclass provides a specific implementation of a method that is already defined in its superclass. This allows for the same method name to behave differently based on the object invoking it, facilitating dynamic method resolution and enhancing code maintainability.\n",
        "\n",
        "24. What is method chaining in Python OOP\n",
        " - Method chaining in Python Object-Oriented Programming (OOP) is a programming technique that allows multiple method calls to be made on the same object in a single statement. This is accomplished by having each method return the object itself (typically using self), which enables a sequence of method calls to be linked together. Method chaining enhances code readability and conciseness, as it allows for a more fluid and expressive way to perform a series of operations on an object without the need for intermediate variables.\n",
        "\n",
        "25. What is the purpose of the __call__ method in Python?\n",
        " - The __call__ method is a special method in Python that allows an instance of a class to be called like a function. By defining the __call__ method within a class, you enable instances of that class to be invoked using parentheses, similar to how a regular function is called. This feature can be particularly useful for creating callable objects that encapsulate both behavior and state, allowing for more flexible and intuitive code design. Callable objects can be used in various scenarios, such as implementing function-like behavior in classes or creating objects that maintain their own internal state while providing a simple interface for interaction."
      ],
      "metadata": {
        "id": "7qlVrzHy9CPW"
      }
    },
    {
      "cell_type": "code",
      "execution_count": 1,
      "metadata": {
        "id": "d4R5fguD83EI",
        "colab": {
          "base_uri": "https://localhost:8080/"
        },
        "outputId": "e7e61b24-5a31-4c0a-bcf7-2512fa399f5e"
      },
      "outputs": [
        {
          "output_type": "stream",
          "name": "stdout",
          "text": [
            "Bark!\n"
          ]
        }
      ],
      "source": [
        "#  1. Create a parent class Animal with a method speak() that prints a generic message. Create a child class Dog that overrides the speak() method to print \"Bark!\"\n",
        "\n",
        "class Animal:\n",
        "  def speak(self):\n",
        "    print(\"This is Generic message\")\n",
        "\n",
        "class Dog(Animal):\n",
        "  def speak(self):\n",
        "    print(\"Bark!\")\n",
        "\n",
        "obj1=Dog()\n",
        "obj1.speak()"
      ]
    },
    {
      "cell_type": "code",
      "source": [
        "#  2. Write a program to create an abstract class Shape with a method area(). Derive classes Circle and Rectangle from it and implement the area() method in both.\n",
        "import abc\n",
        "\n",
        "class Shape:\n",
        "  @abc.abstractmethod\n",
        "  def area(self):\n",
        "    pass\n",
        "\n",
        "class Circle(Shape):\n",
        "  def area(self,radius):\n",
        "    return 3.14*radius**2\n",
        "\n",
        "class Rectangle(Shape):\n",
        "  def area(self,length,breath):\n",
        "    return length*breath\n",
        "\n",
        "obj1=Circle()\n",
        "print(\"Area of circle :\",obj1.area(5))\n",
        "\n",
        "obj2=Rectangle()\n",
        "print(\"Area of Rectangle :\",obj2.area(5,6))\n"
      ],
      "metadata": {
        "colab": {
          "base_uri": "https://localhost:8080/"
        },
        "id": "4Qg1NYO1x0VX",
        "outputId": "bcb048ad-8e85-4326-b27d-2357358f6d31"
      },
      "execution_count": 3,
      "outputs": [
        {
          "output_type": "stream",
          "name": "stdout",
          "text": [
            "Area of circle : 78.5\n",
            "Area of Rectangle : 30\n"
          ]
        }
      ]
    },
    {
      "cell_type": "code",
      "source": [
        "#  3. Implement a multi-level inheritance scenario where a class Vehicle has an attribute type. Derive a class Car\n",
        "# and further derive a class ElectricCar that adds a battery attribute.\n",
        "\n",
        "class Vehicle:\n",
        "  def __init__(self,type):\n",
        "    self.type=type\n",
        "\n",
        "class Car(Vehicle):\n",
        "  def __init__(self,type):\n",
        "    super().__init__(type)\n",
        "\n",
        "class ElectricCar(Car):\n",
        "  def __init__(self, type,battery):\n",
        "    super().__init__(type)\n",
        "    self.battery=battery\n",
        "\n",
        "  def display(self):\n",
        "    print(f\"The type of vehicle is :{self.type}\")\n",
        "    print(f\"The Battery of vehicle is :{self.battery}\")\n",
        "\n",
        "\n",
        "obj1=ElectricCar(\"Electric\",\"Panasonic\")\n",
        "obj1.display()"
      ],
      "metadata": {
        "colab": {
          "base_uri": "https://localhost:8080/"
        },
        "id": "EfdQPzv-zfnW",
        "outputId": "9e2df8b6-30c1-429d-babc-23179c62a831"
      },
      "execution_count": 4,
      "outputs": [
        {
          "output_type": "stream",
          "name": "stdout",
          "text": [
            "The type of vehicle is :Electric\n",
            "The Battery of vehicle is :Panasonic\n"
          ]
        }
      ]
    },
    {
      "cell_type": "code",
      "source": [
        "#  4. Demonstrate polymorphism by creating a base class Bird with a method fly(). Create two derived classes\n",
        "# Sparrow and Penguin that override the fly() method.\n",
        "\n",
        "class Bird:\n",
        "  def fly(self):\n",
        "    print(\"Bird can fly!\")\n",
        "\n",
        "class Sparrow(Bird):\n",
        "  def fly(self):\n",
        "    print(\"Sparrow can fly!\")\n",
        "\n",
        "class Penguin(Bird):\n",
        "  def fly(self):\n",
        "    print(\"Penguin can't fly!\")\n",
        "\n",
        "obj1=Sparrow()\n",
        "obj1.fly()\n",
        "\n",
        "obj2=Penguin()\n",
        "obj2.fly()"
      ],
      "metadata": {
        "colab": {
          "base_uri": "https://localhost:8080/"
        },
        "id": "ODYKOB7a2oXW",
        "outputId": "b63b9fe4-fdd5-4def-bcf7-4f199f6bb7a2"
      },
      "execution_count": 5,
      "outputs": [
        {
          "output_type": "stream",
          "name": "stdout",
          "text": [
            "Sparrow can fly!\n",
            "Penguin can't fly!\n"
          ]
        }
      ]
    },
    {
      "cell_type": "code",
      "source": [
        "# 5. Write a program to demonstrate encapsulation by creating a class BankAccount with private attributes\n",
        "# balance and methods to deposit, withdraw, and check balance.\n",
        "\n",
        "class BankAccount:\n",
        "  def __init__(self,balance):\n",
        "    self.__balance=balance\n",
        "\n",
        "  def deposit(self,amount):\n",
        "    self.__balance+=amount\n",
        "    print(f\"Amount {amount} successfully Deposit !\")\n",
        "\n",
        "  def withdraw(self,amount):\n",
        "    self.__balance-=amount\n",
        "    print(f\"Amount {amount} Debited from your Account!\")\n",
        "\n",
        "  def check_balance(self):\n",
        "    print(f\"Account Balance is :{self.__balance}\")\n",
        "\n",
        "obj1=BankAccount(1000)\n",
        "obj1.check_balance()\n",
        "obj1.deposit(1000)\n",
        "obj1.check_balance()\n",
        "obj1.withdraw(500)\n",
        "obj1.check_balance()"
      ],
      "metadata": {
        "colab": {
          "base_uri": "https://localhost:8080/"
        },
        "id": "XebWRJ7F3qlG",
        "outputId": "a27be6c7-5b49-4bb6-b6d4-a87c3705499d"
      },
      "execution_count": 9,
      "outputs": [
        {
          "output_type": "stream",
          "name": "stdout",
          "text": [
            "Account Balance is :1000\n",
            "Amount 1000 successfully Deposit !\n",
            "Account Balance is :2000\n",
            "Amount 500 Debited from your Account!\n",
            "Account Balance is :1500\n"
          ]
        }
      ]
    },
    {
      "cell_type": "code",
      "source": [
        "#  6. Demonstrate runtime polymorphism using a method play() in a base class Instrument. Derive classes Guitar\n",
        "# and Piano that implement their own version of play().\n",
        "\n",
        "class Instrument:\n",
        "  def play(self):\n",
        "    print(\"Playing Instrument!\")\n",
        "\n",
        "class Guitar(Instrument):\n",
        "  def play(self):\n",
        "    print(\"Playing Guitar!\")\n",
        "\n",
        "class Piano(Instrument):\n",
        "  def play(self):\n",
        "    print(\"Playing Piano!\")\n",
        "\n",
        "obj1=Guitar()\n",
        "obj1.play()\n",
        "\n",
        "obj2=Piano()\n",
        "obj2.play()"
      ],
      "metadata": {
        "colab": {
          "base_uri": "https://localhost:8080/"
        },
        "id": "yUppE7fp5PdG",
        "outputId": "ec164279-16a7-4d0a-f0cd-9cd8518d45db"
      },
      "execution_count": 10,
      "outputs": [
        {
          "output_type": "stream",
          "name": "stdout",
          "text": [
            "Playing Guitar!\n",
            "Playing Piano!\n"
          ]
        }
      ]
    },
    {
      "cell_type": "code",
      "source": [
        "#  7. Create a class MathOperations with a class method add_numbers() to add two numbers and a static\n",
        "# method subtract_numbers() to subtract two numbers.\n",
        "\n",
        "class MathOperations:\n",
        "  def add_numbers(self,a,b):\n",
        "    print(\"Addition :\",a+b)\n",
        "\n",
        "  @staticmethod\n",
        "  def subtract_numbers(a,b):\n",
        "    print(\"Subtraction  :\",a-b)\n",
        "\n",
        "obj1=MathOperations()\n",
        "obj1.add_numbers(5,10)\n",
        "\n",
        "MathOperations.subtract_numbers(10,5)\n",
        "\n",
        ""
      ],
      "metadata": {
        "colab": {
          "base_uri": "https://localhost:8080/"
        },
        "id": "jlgQyOaA6RlW",
        "outputId": "53f96fb4-4383-4586-adf6-5e1164c16c80"
      },
      "execution_count": 12,
      "outputs": [
        {
          "output_type": "stream",
          "name": "stdout",
          "text": [
            "Addition : 15\n",
            "Subtraction  : 5\n"
          ]
        }
      ]
    },
    {
      "cell_type": "code",
      "source": [
        "#  8. Implement a class Person with a class method to count the total number of persons created.\n",
        "\n",
        "class Person:\n",
        "  total=0\n",
        "  def __init__(self):\n",
        "    Person.total+=1\n",
        "\n",
        "  @classmethod\n",
        "  def total_persons(cls):\n",
        "    print(f\"Total Person in class {cls.total}\")\n",
        "\n",
        "obj1=Person()\n",
        "obj2=Person()\n",
        "obj3=Person()\n",
        "\n",
        "Person.total_persons()"
      ],
      "metadata": {
        "colab": {
          "base_uri": "https://localhost:8080/"
        },
        "id": "KtK7uv107--m",
        "outputId": "2e7c9581-8856-4d14-d396-d40903433f43"
      },
      "execution_count": 13,
      "outputs": [
        {
          "output_type": "stream",
          "name": "stdout",
          "text": [
            "Total Person in class 3\n"
          ]
        }
      ]
    },
    {
      "cell_type": "code",
      "source": [
        "#  9. Write a class Fraction with attributes numerator and denominator. Override the str method to display the\n",
        "# fraction as \"numerator/denominator\".\n",
        "\n",
        "class Fraction:\n",
        "  def __init__(self,numerator,denominator):\n",
        "    self.numerator=numerator\n",
        "    self.denominator=denominator\n",
        "\n",
        "  def __str__(self):\n",
        "    return f'{self.numerator}/{self.denominator} ={self.numerator/self.denominator}'\n",
        "\n",
        "obj1=Fraction(10,5)\n",
        "print(obj1)\n"
      ],
      "metadata": {
        "colab": {
          "base_uri": "https://localhost:8080/"
        },
        "id": "sUfNofBP-amn",
        "outputId": "bb53e82b-835d-4fbe-bc13-a1ba7ffb80a1"
      },
      "execution_count": 18,
      "outputs": [
        {
          "output_type": "stream",
          "name": "stdout",
          "text": [
            "10/5 =2.0\n"
          ]
        }
      ]
    },
    {
      "cell_type": "code",
      "source": [
        "#  10. Demonstrate operator overloading by creating a class Vector and overriding the add method to add two vectors.\n",
        "\n",
        "class Vector:\n",
        "  def __init__(self,x,y):\n",
        "    self.x=x\n",
        "    self.y=y\n",
        "\n",
        "  def __add__(self,other):\n",
        "    return self.x+other.x,self.y+other.y\n",
        "\n",
        "obj1=Vector(10,20)\n",
        "obj2=Vector(20,10)\n",
        "obj3=obj1+obj2\n",
        "print(obj3)\n"
      ],
      "metadata": {
        "colab": {
          "base_uri": "https://localhost:8080/"
        },
        "id": "YdSG-lrq_fTG",
        "outputId": "e06e407a-cd7d-48a5-fa1a-5b91de6839d5"
      },
      "execution_count": 19,
      "outputs": [
        {
          "output_type": "stream",
          "name": "stdout",
          "text": [
            "(30, 30)\n"
          ]
        }
      ]
    },
    {
      "cell_type": "code",
      "source": [
        "# 11. Create a class Person with attributes name and age. Add a method greet() that prints \"Hello, my name is {name} and I am {age} years old.\"\n",
        "\n",
        "class Person:\n",
        "  def __init__(self,name,age):\n",
        "    self.name=name\n",
        "    self.age=age\n",
        "\n",
        "  def greet(self):\n",
        "    print(f\"Hello, my name is {self.name} and I am {self.age} years old.\")\n",
        "\n",
        "obj1=Person(\"Harsh\",23)\n",
        "obj1.greet()"
      ],
      "metadata": {
        "colab": {
          "base_uri": "https://localhost:8080/"
        },
        "id": "T_NxIsFxG-Al",
        "outputId": "d5858f0b-7691-404e-c867-ddd74612b0d3"
      },
      "execution_count": 34,
      "outputs": [
        {
          "output_type": "stream",
          "name": "stdout",
          "text": [
            "Hello, my name is Harsh and I am 23 years old.\n"
          ]
        }
      ]
    },
    {
      "cell_type": "code",
      "source": [
        "#  12. Implement a class Student with attributes name and grades. Create a method average_grade() to compute the average of the grades.\n",
        "\n",
        "class Student:\n",
        "  def __init__(self,name,grades):\n",
        "    self.name=name\n",
        "    self.grades=grades\n",
        "\n",
        "  def average_grade(self):\n",
        "    print(f\"Average of {self.name} grade is {sum(self.grades)/len(self.grades)}\")\n",
        "\n",
        "obj1=Student(\"Harsh\",[98,80,90])\n",
        "obj1.average_grade()"
      ],
      "metadata": {
        "colab": {
          "base_uri": "https://localhost:8080/"
        },
        "id": "8M7tQrEGH59V",
        "outputId": "4fdfee99-73a5-48fc-f374-426cc4efdf60"
      },
      "execution_count": 21,
      "outputs": [
        {
          "output_type": "stream",
          "name": "stdout",
          "text": [
            "Average of Harsh grade is 89.33333333333333\n"
          ]
        }
      ]
    },
    {
      "cell_type": "code",
      "source": [
        "#  13. Create a class Rectangle with methods set_dimensions() to set the dimensions and area() to calculate the area.\n",
        "\n",
        "class Rectangle:\n",
        "  def __init__(self,length,breath):\n",
        "    self.length=length\n",
        "    self.breath=breath\n",
        "\n",
        "  def set_dimensions(self,l,b):\n",
        "    self.length=l\n",
        "    self.breath=b\n",
        "\n",
        "  def area(self):\n",
        "    print(f\"Area of Rectangle is {self.length*self.breath}\")\n",
        "\n",
        "obj=Rectangle(10,20)\n",
        "obj.area()\n",
        "obj.set_dimensions(20,30)\n",
        "obj.area()\n"
      ],
      "metadata": {
        "colab": {
          "base_uri": "https://localhost:8080/"
        },
        "id": "KYfLNW_HJDlV",
        "outputId": "db7d076f-baa0-4679-ee3f-82c14b562b46"
      },
      "execution_count": 22,
      "outputs": [
        {
          "output_type": "stream",
          "name": "stdout",
          "text": [
            "Area of Rectangle is 200\n",
            "Area of Rectangle is 600\n"
          ]
        }
      ]
    },
    {
      "cell_type": "code",
      "source": [
        "# 14. Create a class Employee with a method calculate_salary() that computes the salary based on hours worked and hourly rate.\n",
        "# Create a derived class Manager that adds a bonus to the salary.\n",
        "\n",
        "class Employee:\n",
        "  def __init__(self,name,hours,rate):\n",
        "    self.name=name\n",
        "    self.hours=hours\n",
        "    self.rate=rate\n",
        "\n",
        "  def calculate_salary(self,bonus=0):\n",
        "    print(f\"Salary of {self.name} is {self.hours*self.rate+bonus}\")\n",
        "\n",
        "class Manager(Employee):\n",
        "  def __init__(self,name,hours,rate,bonus):\n",
        "    super().__init__(name,hours,rate)\n",
        "    self.bonus=bonus\n",
        "\n",
        "  def calculate_salary(self):\n",
        "    return super().calculate_salary(self.bonus)\n",
        "\n",
        "E1=Manager('Harsh',100,1000,30000)\n",
        "E1.calculate_salary()\n",
        "\n"
      ],
      "metadata": {
        "colab": {
          "base_uri": "https://localhost:8080/"
        },
        "id": "irXX2lZRKBeV",
        "outputId": "030bd36d-b68e-4fa8-be6b-0257957a3c5a"
      },
      "execution_count": 25,
      "outputs": [
        {
          "output_type": "stream",
          "name": "stdout",
          "text": [
            "Salary of Harsh is 130000\n"
          ]
        }
      ]
    },
    {
      "cell_type": "code",
      "source": [
        "# 15. Create a class Product with attributes name, price, and quantity. Implement a method total_price() that calculates the total price of the product.\n",
        "\n",
        "class Product:\n",
        "  def __init__(self,name,price,quantity):\n",
        "    self.name=name\n",
        "    self.price=price\n",
        "    self.quantity=quantity\n",
        "\n",
        "  def total_price(self):\n",
        "    print(f'The Total price of Product is {self.price*self.quantity}')\n",
        "\n",
        "obj1=Product('Book',45,12)\n",
        "obj1.total_price()"
      ],
      "metadata": {
        "colab": {
          "base_uri": "https://localhost:8080/"
        },
        "id": "RrMvN7qrL48V",
        "outputId": "2f2a2ea9-e9f0-432e-97ed-880671313397"
      },
      "execution_count": 26,
      "outputs": [
        {
          "output_type": "stream",
          "name": "stdout",
          "text": [
            "The Total price of Product is 540\n"
          ]
        }
      ]
    },
    {
      "cell_type": "code",
      "source": [
        "#  16. Create a class Animal with an abstract method sound(). Create two derived classes Cow and Sheep that implement the sound() method.\n",
        "import abc\n",
        "\n",
        "class Animal:\n",
        "  @abc.abstractmethod\n",
        "  def sound(self):\n",
        "    pass\n",
        "\n",
        "class Cow(Animal):\n",
        "  def sound(self):\n",
        "    print(\"Cow sound Moo!\")\n",
        "\n",
        "class Sheep(Animal):\n",
        "  def sound(self):\n",
        "    print(\"Sheep sound Baa!\")\n",
        "\n",
        "obj1=Cow()\n",
        "obj1.sound()\n",
        "\n",
        "obj2=Sheep()\n",
        "obj2.sound()"
      ],
      "metadata": {
        "colab": {
          "base_uri": "https://localhost:8080/"
        },
        "id": "izWG-ZhsM4BV",
        "outputId": "09536f6e-4781-45fd-c6e5-774944ee27e0"
      },
      "execution_count": 28,
      "outputs": [
        {
          "output_type": "stream",
          "name": "stdout",
          "text": [
            "Cow sound Moo!\n",
            "Sheep sound Baa!\n"
          ]
        }
      ]
    },
    {
      "cell_type": "code",
      "source": [
        "#  17. Create a class Book with attributes title, author, and year_published. Add a method get_book_info() that returns a formatted string with the book's details.\n",
        "\n",
        "class Book:\n",
        "  def __init__(self,title,author,year_published):\n",
        "    self.title=title\n",
        "    self.author=author\n",
        "    self.year_published=year_published\n",
        "\n",
        "  def get_book_info(self):\n",
        "    print(f\"The title of book is {self.title} Written by author {self.author} in {self.year_published} Published.\")\n",
        "\n",
        "obj1=Book(\"Python\",\"Harsh\",2025)\n",
        "obj1.get_book_info()"
      ],
      "metadata": {
        "colab": {
          "base_uri": "https://localhost:8080/"
        },
        "id": "rb-x0vB9QBsZ",
        "outputId": "a625fce0-b0de-4ce3-8c0f-d1f245a8fd9b"
      },
      "execution_count": 31,
      "outputs": [
        {
          "output_type": "stream",
          "name": "stdout",
          "text": [
            "The title of book is Python Written by author Harsh in 2025 Published.\n"
          ]
        }
      ]
    },
    {
      "cell_type": "code",
      "source": [
        "# 18. Create a class House with attributes address and price. Create a derived class Mansion that adds an attribute number_of_rooms.\n",
        "class House:\n",
        "  def __init__(self,address,price):\n",
        "    self.address=address\n",
        "    self.price=price\n",
        "\n",
        "class Mansion(House):\n",
        "  def __init__(self,address,price,number_of_rooms):\n",
        "    super().__init__(address,price)\n",
        "    self.number_of_rooms=number_of_rooms\n",
        "\n",
        "  def Display(self):\n",
        "    print(f\"The address of house is {self.address} with number of room {self.number_of_rooms} and price is {self.price}\")\n",
        "\n",
        "obj1=Mansion(\"Manish Nagar Nagpur\",10000000,9)\n",
        "obj1.Display()\n",
        "\n",
        "\n",
        ""
      ],
      "metadata": {
        "colab": {
          "base_uri": "https://localhost:8080/"
        },
        "id": "faVs4dv7S6kZ",
        "outputId": "a9e8e746-786f-4cae-8ee8-7d72b8aa6055"
      },
      "execution_count": 33,
      "outputs": [
        {
          "output_type": "stream",
          "name": "stdout",
          "text": [
            "The address of house is Manish Nagar Nagpur with number of room 9 and price is 10000000\n"
          ]
        }
      ]
    },
    {
      "cell_type": "code",
      "source": [],
      "metadata": {
        "id": "qs3qeXxQXWeJ"
      },
      "execution_count": null,
      "outputs": []
    }
  ]
}