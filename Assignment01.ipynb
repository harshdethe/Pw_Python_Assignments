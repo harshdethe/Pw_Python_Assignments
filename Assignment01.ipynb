{
  "nbformat": 4,
  "nbformat_minor": 0,
  "metadata": {
    "colab": {
      "provenance": []
    },
    "kernelspec": {
      "name": "python3",
      "display_name": "Python 3"
    },
    "language_info": {
      "name": "python"
    }
  },
  "cells": [
    {
      "cell_type": "markdown",
      "source": [
        "1. What is Python, and why is it popular?\n",
        "   - Python is an open-source, high-level, and interpreted programming language that is popular for its readability and large standard library. Due to these features, it is widely used in various industries. Python was created by Guido van Rossum in 1991.\n",
        "\n",
        "2. What is an interpreter in Python?\n",
        "   - An interpreter is a language processor that converts high-level code into machine code. It interprets the code line by line, executing each line as it reads it.\n",
        "\n",
        "3. What are pre-defined keywords in Python?\n",
        "   - Pre-defined keywords in Python are built-in words that are reserved for specific purposes in python. These keywords have special meanings and cannot be used as variable names or identifiers. Examples of such keywords is if, else, for, while, and def, etc.To view all the keywords in Python, we can run the command help('keywords'), which will return a list of all the reserved keywords in the language\n",
        "\n",
        "4. Can keywords be used as variable names?\n",
        "   - we can't use keywords as a variable names, because they are reserved words in Python that have specific meanings. Using a keyword as a variable name would lead to errors.\n",
        "\n",
        "5. What is mutability in Python?\n",
        "   - Mutability means the ability of an object to be changed after it has been created. if object is mutable if its value can be modified, examples lists and array.if an object is immutable, its value cannot be changed once it is created. Examples strings and tuples.\n",
        "\n",
        "6. Why are lists mutable, but tuples are immutable?\n",
        "   - Lists are mutable because they are designed to collect and store data that can change over time. This  allows lists to be used for dynamic data storage, where elements can be added, removed, or modified as needed,tuples are immutable, meaning that once they are created, their contents cannot be changed. This immutability provides safety by preventing accidental modifications to the data.\n",
        "\n",
        "7. What is the difference between “==” and “is” operators in Python?\n",
        "   - '==' is a comparison operator that is used to compare two values. If the values are the same, it returns true; otherwise, it returns false. On the other hand, the 'is' operator is an identity operator that is used to compare objects or memory addresses. If the memory addresses are the same, it returns true; otherwise, it returns false.\n",
        "\n",
        "8. What are logical operators in Python?\n",
        "   - Logical operators are used to perform logical operations that return a boolean value, either true or false. They include the 'and' operator, which returns true if both conditions are satisfied, the 'or' operator, which returns true if at least one condition is true, and the 'not' operator, which returns true if the condition is not satisfied.\n",
        "\n",
        "9. What is type casting in Python?\n",
        "   - Type casting is the process of converting a value from one data type to another data type. There are two types of type casting: implicit and explicit. In implicit type casting, Python automatically converts a lower data type to a higher data type during operations. In explicit type casting, we manually convert the value from one data type to another using built-in functions such as int(), float(), and str().\n",
        "\n",
        "10. What is the difference between implicit and explicit type casting?\n",
        "    - Implicit type casting occurs when Python automatically converts a lower data type to a higher data type during execution. In explicit type casting is occurs when we manually convert the value from one data type to another using built-in functions such as int(), float(), and str().\n",
        "\n",
        "11. What is the purpose of conditional statements in Python?\n",
        "    - Conditional statements are generally used to execute a block of code based on a specific condition. If the specific condition is satisfied, then the block of code is executed; otherwise, the program moves on to the next condition.The conditional statement are if, elif, and else. conditional statement starts with 'if' statement ,so 'if' condition is satisfy then block of code execute otherwise go to  'elif' block if 'elif' condition is satisfy then it execute block of code otherwise go to next condition if present otherwise 'else' will be executed.\n",
        "\n",
        "12. How does the elif statement work?\n",
        "    - The elif statement is part of conditional statements in Python. It stands for \"else if\" and is used to check multiple conditions in a sequence. If the initialy 'if' statement condition is not satisfied (false), the program checks the condition of the 'elif' statement. If the 'elif' condition is satisfied (true), the associated block of code is executed. If it is not satisfied, the program can continue to check another 'elif' statements or move to an 'else' statement.A conditional statement can contain multiple 'elif' statements.\n",
        "\n",
        "13. What is the difference between for and while loops?\n",
        "    - difference between while and for loop is 'While' loop iterate over predefine condition mans It continues to execute the block of code until the condition becomes false and for loop iterate over a sequences like range,list,string etc.\n",
        "\n",
        "14. Describe a scenario where a while loop is more suitable than a for loop?\n",
        "    - A while loop is suitable in scenarios where the number of iterations is not known in advance. For example, consider a menu system in an online shopping application where the program continuously asks the customer if they want to add more items to their cart until the user types \"no.\" In this case, the loop needs to run indefinitely until a specific condition is met this means the user indicating they do not want to add more items,so This type of scenario is not suitable for a 'for' loop, as 'for' loops require a predetermined number of iterations."
      ],
      "metadata": {
        "id": "B92XwQkeLaqi"
      }
    },
    {
      "cell_type": "code",
      "source": [
        "# 1. Write a Python program to print \"Hello, World!\n",
        "print('Hello, World!')"
      ],
      "metadata": {
        "colab": {
          "base_uri": "https://localhost:8080/"
        },
        "collapsed": true,
        "id": "YgYxd500MuqA",
        "outputId": "60dbf39b-a9ed-4658-fcb2-7b0a854f7eb2"
      },
      "execution_count": 1,
      "outputs": [
        {
          "output_type": "stream",
          "name": "stdout",
          "text": [
            "Hello, World!\n"
          ]
        }
      ]
    },
    {
      "cell_type": "code",
      "source": [
        "# 2  Write a Python program that displays your name and age\n",
        "name=\"Harsh\"\n",
        "age=23\n",
        "print(f\" My Name is {name} and Age is {age}\")"
      ],
      "metadata": {
        "colab": {
          "base_uri": "https://localhost:8080/"
        },
        "collapsed": true,
        "id": "QiFv9aY4M6yf",
        "outputId": "d27a9ab9-c6fd-4878-b749-ac1ac93c7c59"
      },
      "execution_count": 2,
      "outputs": [
        {
          "output_type": "stream",
          "name": "stdout",
          "text": [
            " My Name is Harsh and Age is 23\n"
          ]
        }
      ]
    },
    {
      "cell_type": "code",
      "source": [
        "# 3  Write code to print all the pre-defined keywords in Python using the keyword library\n",
        "import keyword\n",
        "print(keyword.kwlist)"
      ],
      "metadata": {
        "colab": {
          "base_uri": "https://localhost:8080/"
        },
        "collapsed": true,
        "id": "6JfCJxHCNAgf",
        "outputId": "f4ce715d-875b-483a-900f-8a79cf03ad5e"
      },
      "execution_count": 18,
      "outputs": [
        {
          "output_type": "stream",
          "name": "stdout",
          "text": [
            "['False', 'None', 'True', 'and', 'as', 'assert', 'async', 'await', 'break', 'class', 'continue', 'def', 'del', 'elif', 'else', 'except', 'finally', 'for', 'from', 'global', 'if', 'import', 'in', 'is', 'lambda', 'nonlocal', 'not', 'or', 'pass', 'raise', 'return', 'try', 'while', 'with', 'yield']\n"
          ]
        }
      ]
    },
    {
      "cell_type": "code",
      "source": [
        "# 4 Write a program that checks if a given word is a Python keyword.\n",
        "import keyword\n",
        "n=input(\"Enter the word :\")\n",
        "# l=list()\n",
        "if n in keyword.kwlist:\n",
        "    print(f'{n} is keyword')\n",
        "else:\n",
        "    print(f'{n} is not keyword')"
      ],
      "metadata": {
        "colab": {
          "base_uri": "https://localhost:8080/"
        },
        "collapsed": true,
        "id": "DJr24doRNE1H",
        "outputId": "62da0d8a-b8f3-43f5-c1ee-1f506c55fef6"
      },
      "execution_count": 4,
      "outputs": [
        {
          "output_type": "stream",
          "name": "stdout",
          "text": [
            "Enter the word :if\n",
            "if is keyword\n"
          ]
        }
      ]
    },
    {
      "cell_type": "code",
      "source": [
        "# 5. Create a list and tuple in Python, and demonstrate how attempting to change an element works differently for each.\n",
        "list=[1,2,3,4,5]\n",
        "print(\"before updating list \",list)\n",
        "list[0]=100\n",
        "print(\"after updating list \",list)\n",
        "print()\n",
        "tup=(1,2,3,4,5)\n",
        "# we can't change element of tuple because it's immutable\n",
        "# tup[0]=200                          # it will raise error\n",
        "print(\"We can not change the element of tuple it will raise error because tuple is immutable\")\n"
      ],
      "metadata": {
        "colab": {
          "base_uri": "https://localhost:8080/"
        },
        "collapsed": true,
        "id": "b-hBgYo-NKVY",
        "outputId": "75fec43d-d533-4ae9-ae8e-16c779feb99b"
      },
      "execution_count": 5,
      "outputs": [
        {
          "output_type": "stream",
          "name": "stdout",
          "text": [
            "before updating list  [1, 2, 3, 4, 5]\n",
            "after updating list  [100, 2, 3, 4, 5]\n",
            "\n",
            "We can not change the element of tuple it will raise error because tuple is immutable\n"
          ]
        }
      ]
    },
    {
      "cell_type": "code",
      "source": [
        "# 6. Write a function to demonstrate the behavior of mutable and immutable arguments.\n",
        "def demo(mutable,imutable):\n",
        "    ''' for mutable argument'''\n",
        "    print(\"Before updating mutable argument \",mutable)\n",
        "    mutable[1]=1000\n",
        "    print(\"After updating mutable argument \",mutable)\n",
        "\n",
        "    ''' for Immutable argument '''\n",
        "    print(\"Original imutable argument \",imutable)\n",
        "    #imutable[0]=1000       # it will raise the error\n",
        "    print(\"We can't change element of an imutable argument\" )\n",
        "\n",
        "\n",
        "demo([1,2,3,4,5,6],(1,2,3,4,5,6))"
      ],
      "metadata": {
        "colab": {
          "base_uri": "https://localhost:8080/"
        },
        "collapsed": true,
        "id": "Dlxlj4j7Ndgf",
        "outputId": "e2c59dac-f244-41af-eb83-e1b33c9da3fd"
      },
      "execution_count": 6,
      "outputs": [
        {
          "output_type": "stream",
          "name": "stdout",
          "text": [
            "Before updating mutable argument  [1, 2, 3, 4, 5, 6]\n",
            "After updating mutable argument  [1, 1000, 3, 4, 5, 6]\n",
            "Original imutable argument  (1, 2, 3, 4, 5, 6)\n",
            "We can't change element of an imutable argument\n"
          ]
        }
      ]
    },
    {
      "cell_type": "code",
      "source": [
        "#  7. Write a program that performs basic arithmetic operations on two user-input numbers.\n",
        "a=int(input(\"Enter the first number :\"))\n",
        "b=int(input(\"Enter the Second number :\"))\n",
        "\n",
        "print(f\"The two number is a={a} and b={b} :\")\n",
        "print(\"Addition of two number is \",a+b)\n",
        "print(\"Substraction of two number is \",a-b)\n",
        "print(\"Multiplication of two number is \",a*b)\n",
        "print(\"Division of two number is \",a/b)\n",
        "print(\"Modules of two number is \",a%b)\n",
        "print(\"Expo of two number is \",a**b)\n"
      ],
      "metadata": {
        "colab": {
          "base_uri": "https://localhost:8080/"
        },
        "collapsed": true,
        "id": "ru7y0GiSNhEP",
        "outputId": "d21c37b3-68b4-4b57-b079-89fcddc803e9"
      },
      "execution_count": 7,
      "outputs": [
        {
          "output_type": "stream",
          "name": "stdout",
          "text": [
            "Enter the first number :5\n",
            "Enter the Second number :1\n",
            "The two number is a=5 and b=1 :\n",
            "Addition of two number is  6\n",
            "Substraction of two number is  4\n",
            "Multiplication of two number is  5\n",
            "Division of two number is  5.0\n",
            "Modules of two number is  0\n",
            "Expo of two number is  5\n"
          ]
        }
      ]
    },
    {
      "cell_type": "code",
      "source": [
        "# 8. Write a program to demonstrate the use of logical operators.\n",
        "a=int(input(\"Enter the 1st Number :\"))\n",
        "b=int(input(\"Enter the 2nd Number :\"))\n",
        "c=int(input(\"Enter the 3rd Number :\"))\n",
        "\n",
        "if a>b and a>c:\n",
        "    print(f\"{a} is greater than {b} and {c}\")\n",
        "elif b>a and b>c:\n",
        "    print(f\"{b} is greater than {a} and {c}\")\n",
        "elif c>a and c>b:\n",
        "    print(f\"{c} is greater than {a} and {b}\")\n"
      ],
      "metadata": {
        "colab": {
          "base_uri": "https://localhost:8080/"
        },
        "collapsed": true,
        "id": "HQrF56vnNowf",
        "outputId": "b41b06bb-5c9c-42f8-8848-6885ca8ab21f"
      },
      "execution_count": 8,
      "outputs": [
        {
          "output_type": "stream",
          "name": "stdout",
          "text": [
            "Enter the 1st Number :5\n",
            "Enter the 2nd Number :1\n",
            "Enter the 3rd Number :8\n",
            "8 is greater than 5 and 1\n"
          ]
        }
      ]
    },
    {
      "cell_type": "code",
      "source": [
        "# 9. Write a Python program to convert user input from string to integer, float, and boolean types.\n",
        "n=input(\"Enter the value :\")\n",
        "\n",
        "print(f'Integer form {int(n)}')\n",
        "print(f'Float form is {float(n)}')\n",
        "print(f'Boolean form is {bool(int(n))}')"
      ],
      "metadata": {
        "colab": {
          "base_uri": "https://localhost:8080/"
        },
        "collapsed": true,
        "id": "-lXnfGuZNrwv",
        "outputId": "2b786419-cd0b-4865-97ac-ac8c0bcfe521"
      },
      "execution_count": 9,
      "outputs": [
        {
          "output_type": "stream",
          "name": "stdout",
          "text": [
            "Enter the value :5\n",
            "Integer form 5\n",
            "Float form is 5.0\n",
            "Boolean form is True\n"
          ]
        }
      ]
    },
    {
      "cell_type": "code",
      "source": [
        "# 10. Write code to demonstrate type casting with list elements.\n",
        "list=['1',2,3,'4','5']\n",
        "\n",
        "for i in range(len(list)):\n",
        "    print(\"Type casting in integer is :\",int(list[i]))\n",
        "    print(\"Type casting in Float is :\",float(list[i]))\n",
        "    print(\"Type casting in String is :\",str(list[i]))\n",
        "    print()\n",
        "\n"
      ],
      "metadata": {
        "colab": {
          "base_uri": "https://localhost:8080/"
        },
        "collapsed": true,
        "id": "oqKErsF0Nv_Y",
        "outputId": "45f96e7d-5f1a-4b13-c26b-aa06e65d87a0"
      },
      "execution_count": 10,
      "outputs": [
        {
          "output_type": "stream",
          "name": "stdout",
          "text": [
            "Type casting in integer is : 1\n",
            "Type casting in Float is : 1.0\n",
            "Type casting in String is : 1\n",
            "\n",
            "Type casting in integer is : 2\n",
            "Type casting in Float is : 2.0\n",
            "Type casting in String is : 2\n",
            "\n",
            "Type casting in integer is : 3\n",
            "Type casting in Float is : 3.0\n",
            "Type casting in String is : 3\n",
            "\n",
            "Type casting in integer is : 4\n",
            "Type casting in Float is : 4.0\n",
            "Type casting in String is : 4\n",
            "\n",
            "Type casting in integer is : 5\n",
            "Type casting in Float is : 5.0\n",
            "Type casting in String is : 5\n",
            "\n"
          ]
        }
      ]
    },
    {
      "cell_type": "code",
      "source": [
        "# 11. Write a program that checks if a number is positive, negative, or zero.\n",
        "n=int(input(\"Enter the number: \"))\n",
        "\n",
        "if n>0:\n",
        "    print(f\"{n} is positive \")\n",
        "elif n==0:\n",
        "    print(f\"{n} is zero\")\n",
        "else:\n",
        "    print(f\"{n} is Negative\")"
      ],
      "metadata": {
        "colab": {
          "base_uri": "https://localhost:8080/"
        },
        "collapsed": true,
        "id": "449SjdEyN0HX",
        "outputId": "ac0615ef-04cc-40fd-ae93-54b0e63ee723"
      },
      "execution_count": 12,
      "outputs": [
        {
          "output_type": "stream",
          "name": "stdout",
          "text": [
            "Enter the number: 0\n",
            "0 is zero\n"
          ]
        }
      ]
    },
    {
      "cell_type": "code",
      "source": [
        "# 12. Write a for loop to print numbers from 1 to 10.\n",
        "for i in range(1,11):\n",
        "    print(i,end=' ')"
      ],
      "metadata": {
        "colab": {
          "base_uri": "https://localhost:8080/"
        },
        "id": "JJDupm9GN4Om",
        "outputId": "fe6fa0e2-d151-4241-e8fd-e8d028314ea1"
      },
      "execution_count": 13,
      "outputs": [
        {
          "output_type": "stream",
          "name": "stdout",
          "text": [
            "1 2 3 4 5 6 7 8 9 10 "
          ]
        }
      ]
    },
    {
      "cell_type": "code",
      "source": [
        "# 13. Write a Python program to find the sum of all even numbers between 1 and 50.\n",
        "sum=0\n",
        "for i in range(1,51):\n",
        "    if i%2==0:\n",
        "        sum+=i\n",
        "\n",
        "print(\"Sum of even number from 1 to 50 is :\",sum)"
      ],
      "metadata": {
        "colab": {
          "base_uri": "https://localhost:8080/"
        },
        "id": "P9UrVSoHN8oP",
        "outputId": "c2d63973-8e89-4c3e-a8e3-58c1e62cf30e"
      },
      "execution_count": 14,
      "outputs": [
        {
          "output_type": "stream",
          "name": "stdout",
          "text": [
            "Sum of even number from 1 to 50 is : 650\n"
          ]
        }
      ]
    },
    {
      "cell_type": "code",
      "source": [
        "#  14. Write a program to reverse a string using a while loop.\n",
        "st=input(\"Enter the string :\")\n",
        "st2=''\n",
        "i=len(st)-1\n",
        "while i>=0:\n",
        "    st2+=st[i]\n",
        "    i=i-1\n",
        "print(st2)"
      ],
      "metadata": {
        "colab": {
          "base_uri": "https://localhost:8080/"
        },
        "id": "lG6jnCDDN_i4",
        "outputId": "e64100df-f55c-436d-9784-9d8ec7872f32"
      },
      "execution_count": 15,
      "outputs": [
        {
          "output_type": "stream",
          "name": "stdout",
          "text": [
            "Enter the string :python\n",
            "nohtyp\n"
          ]
        }
      ]
    },
    {
      "cell_type": "code",
      "source": [
        "#  15. Write a Python program to calculate the factorial of a number provided by the user using a while loop.\n",
        "\n",
        "n=int(input(\"Enter the number :\"))\n",
        "fact=1\n",
        "i=1\n",
        "while i<=n:\n",
        "    fact=fact*i\n",
        "    i+=1\n",
        "\n",
        "print(\"Factorial of an element is \",fact)"
      ],
      "metadata": {
        "colab": {
          "base_uri": "https://localhost:8080/"
        },
        "id": "fC2BXtcaOG6X",
        "outputId": "e4af58e4-9c29-47cf-b6fe-eb7a1b49cb5b"
      },
      "execution_count": 17,
      "outputs": [
        {
          "output_type": "stream",
          "name": "stdout",
          "text": [
            "Enter the number :4\n",
            "Factorial of an element is  24\n"
          ]
        }
      ]
    },
    {
      "cell_type": "code",
      "source": [],
      "metadata": {
        "id": "cU_HMYw0QAej"
      },
      "execution_count": null,
      "outputs": []
    }
  ]
}