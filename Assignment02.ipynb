{
  "nbformat": 4,
  "nbformat_minor": 0,
  "metadata": {
    "colab": {
      "provenance": []
    },
    "kernelspec": {
      "name": "python3",
      "display_name": "Python 3"
    },
    "language_info": {
      "name": "python"
    }
  },
  "cells": [
    {
      "cell_type": "markdown",
      "source": [
        " 1. What are data structures, and why are they important?\n",
        "    - A data structure is a format for storing, accessing, and manipulating data. It acts like a container that holds data and allows for its retrieval. There are different data structures designed to store various kinds of data. Data structures are important because they enable efficient storage, access, and manipulation of different types of data. The selection of the appropriate data structure can significantly enhance efficiency and performance, optimizing operations such as searching and sorting, while also providing effective memory usage.\n",
        "\n",
        "2. Explain the difference between mutable and immutable data types with examples?\n",
        "    - Mutable data types are those that can be changed after they are created. This means that the elements of a mutable data type can be modified. Examples of mutable data types include lists, sets, and dictionaries.On the other hand, immutable data types cannot be changed once they are created. This means that the elements of an immutable data type cannot be modified. Examples of immutable data types include tuples and strings.\n",
        "\n",
        "3. What are the main differences between lists and tuples in Python?\n",
        "   - The main difference between lists and tuples is that lists are mutable data types, meaning they can be changed after they are created. This allows us to modify elements from a list and it is represent br square bracket example []. On the other hand, tuples are immutable data types, which means they cannot be changed once they are created. As a result, the elements of a tuple cannot be modified and it is represent by parenthesis example ().\n",
        "\n",
        "4. Describe how dictionaries store data?\n",
        "   - Dictionaries are a data structure that stores data in the form of key-value pairs. In a dictionary, the keys must be of an immutable type, such as strings, integers, or tuples, and must be unique while the values can be of any valid data type. we can access the value in the dictionary using the key.\n",
        "\n",
        "5. Why might you use a set instead of a list in Python?\n",
        "   - Lists and sets are both data structures which is used to store different types of data. However, sets are preferable in scenarios where we want to store unique values, as they automatically eliminate duplicate entries. Unlike lists, which can contain duplicate data, sets ensure that each element is unique. This makes sets particularly useful for operations that require uniqueness.\n",
        "\n",
        "6. What is a string in Python, and how is it different from a list?\n",
        "   - A string in Python is a collection of characters that is ordered and immutable, meaning it cannot be changed after it is created. Characters in a string can be accessed using their index numbers. Strings are commonly used to represent text, and they can be defined using single quotes (e.g., 'Hello') or double quotes (e.g., \"Hello\"). the main difference between string and list, string is immutable and list is mutable which means string element can not be change but on the other hand list element can be changed.\n",
        "\n",
        "7. How do tuples ensure data integrity in Python?\n",
        "   - Tuples are immutable, meaning that their elements cannot be changed once they are created. This immutability provides a form of write protection, ensuring that the data contained within a tuple remains constant throughout its lifetime.As a result, tuples help maintain data integrity by preventing accidental modifications. This characteristic makes tuples particularly useful for storing data that should not be altered, such as configuration settings or fixed collections of related values.\n",
        "\n",
        "8. What is a hash table, and how does it relate to dictionaries in Python?\n",
        "   - Hash table is data structure that store the data in a key-value pair format and allows for fast access using keys. It is based on hash function where hash function converts the key into index that determine where the value is stored in memory.Python dictionary is implmented using a hash table,python takes each key and run a hash function on it.\n",
        "\n",
        "9. Can lists contain different data types in Python?\n",
        "   - Yes, a list in Python is a collection that can store heterogeneous data types, meaning it can contain different types of data (such as integers, strings, floats, etc.). These elements can be easily accessed using their index numbers.\n",
        "\n",
        "10. Explain why strings are immutable in Python?\n",
        "    - String are immutable because immutability allow python to optimize memory usage through a technique called string interning,where identical string are stored only onces in memory.This wouldn't be safe if string could be changed after creation.\n",
        "\n",
        "11. What advantages do dictionaries offer over lists for certain tasks?\n",
        "    - Dictionaries are used to store data in key-value pairs, while lists use indices. This means that dictionaries provide more readable and descriptive code because keys act like labels, making the structure of the data clearer compared to accessing list elements by numerical indices..Dictionaries automatically ensure key uniqueness,preventing duplicate entries and allowing easy updates which is not possible in list.Additionally list required searching through elements linearly and dictionary use hash table to retrieve value which make dictionary faster access data as compared to list.\n",
        "\n",
        "12. Describe a scenario where using a tuple would be preferable over a list?\n",
        "    - A tuple is preferable over a list in scenario where we need to store a data which fixed and not changeable, for example student roll number which is fixed and not accidentally modified,Since tuple are immutable,so immutablility make data safer which is not possible by list so in this scenario we use tuple over a list.\n",
        "\n",
        "13. How do sets handle duplicate values in Python?\n",
        "    - so set are data structure which store a data which is unoredered and must be unique,sets automatically remove duplicate value because set are designed to store unique element.when we you add items to a set,python internally use hasing mechanism to check if the item already exists, if it is present then set ignor this value and return only one instances of that value.\n",
        "\n",
        "14. How does the “in” keyword work differently for lists and dictionaries?\n",
        "    - The \"in\" keyword in keyword is actually a membership operator used to check for the existence of a specific item in a sequence.it behave differently for list and dictionaries.In a list, \"in\" keyword is use to find specific value exist in list or sequences and in a dictionary, 'in' keyword is use to find key in a dictionary not a value.\n",
        "\n",
        "15. Can you modify the elements of a tuple? Explain why or why not?\n",
        "    - No, we cannot modify the elements of a tuple because a tuple is a data structure that is immutable, meaning we cannot change its elements after they are created. This immutability provides a form of write protection, ensuring that the data contained within a tuple remains constant throughout its lifetime. As a result, tuples help maintain data integrity by preventing accidental modifications.\n",
        "\n",
        "16. What is a nested dictionary, and give an example of its use case?\n",
        "    - Nested dictionary in python is a dictionary within the another dictionary,which is allow to store data in hierachical structore. for example student management system where rollnumber is key and it's contain student info like name , age and subject marks,which is another dictionaries.\n",
        "    example-\n",
        "    dict1={21:{'name':'harsh','age':23,'Subject_marks':{98,95,85,89}}\n",
        "\n",
        "17. Describe the time complexity of accessing elements in a dictionary?\n",
        "    - The time complexity of accessing an element in a Python dictionary is o(1) on average, meaning it takes constant time regardless of the size of the dictionary. This efficiency is achieved through the use of a hash table, where each key is hashed to compute a specific index that directly points to its corresponding value. As a result, accessing an item by its key does not require scanning through all elements.\n",
        "\n",
        "18. In what situations are lists preferred over dictionaries?\n",
        "    - Lists are preferred over dictionaries in situations where we are working with a simple collection of items that are ordered and may contain duplicate values. If our data does not require key-value pairing, lists are a better choice. Additionally, lists are generally more efficient for operations such as sorting, searching, and appending elements.\n",
        "\n",
        "19. Why are dictionaries considered unordered, and how does that affect data retrieval?\n",
        "    - Dictionaries are originally unordered because their internal structure did not preserve order in which key value pair added but from Python 3.7 dictionaries presereve insertion order that means that item appear in the same order they where added when we iterate over the dictionaries.In terms of data retrieval, the unordered nature does not affect how you access a specific value by its key; you can still retrieve values directly using their corresponding keys. The unordered characteristic primarily impacts operations that depend on the sequence of items, such as iteration or display.\n",
        "\n",
        "20. Explain the difference between a list and a dictionary in terms of data retrieval.\n",
        "    - A list is an ordered collection of data where elements are accessed using their index numbers. For example, the first element of a list can be retrieved using index 0. In contrast, a dictionary is a collection of data in the form of key-value pairs. Data retrieval in a dictionary is done using keys rather than index numbers, which means that dictionaries do not support indexing in the same way that lists do."
      ],
      "metadata": {
        "id": "azT5xiQ7w5Zr"
      }
    },
    {
      "cell_type": "code",
      "source": [
        "# 1.Write a code to create a string with your name and print it\n",
        "name='Harsh'\n",
        "print(f'My name is {name}')"
      ],
      "metadata": {
        "id": "hOooW6D3eccF",
        "colab": {
          "base_uri": "https://localhost:8080/"
        },
        "outputId": "0563c186-ae74-4972-c770-b9885534683f"
      },
      "execution_count": 1,
      "outputs": [
        {
          "output_type": "stream",
          "name": "stdout",
          "text": [
            "My name is Harsh\n"
          ]
        }
      ]
    },
    {
      "cell_type": "code",
      "source": [
        "# 2. Write a code to find the length of the string \"Hello World\"\n",
        "str2='Hello World'\n",
        "print(len(str2))"
      ],
      "metadata": {
        "id": "mKI6HPtEeyvT",
        "colab": {
          "base_uri": "https://localhost:8080/"
        },
        "outputId": "bc8ad6c0-9e51-4276-e328-07d4f4d38afc"
      },
      "execution_count": 2,
      "outputs": [
        {
          "output_type": "stream",
          "name": "stdout",
          "text": [
            "11\n"
          ]
        }
      ]
    },
    {
      "cell_type": "code",
      "source": [
        "# 3. Write a code to slice the first 3 characters from the string \"Python Programming\"\n",
        "str3=\"Python Programming\"\n",
        "print(str3[0:3])\n"
      ],
      "metadata": {
        "id": "fsb7MBuXfRha",
        "colab": {
          "base_uri": "https://localhost:8080/"
        },
        "outputId": "91097aa9-5e1e-4866-b5f6-f4dce8056789"
      },
      "execution_count": 3,
      "outputs": [
        {
          "output_type": "stream",
          "name": "stdout",
          "text": [
            "Pyt\n"
          ]
        }
      ]
    },
    {
      "cell_type": "code",
      "source": [
        "# 4. Write a code to convert the string \"hello\" to uppercase\n",
        "str4='hello'\n",
        "print(str4.upper())"
      ],
      "metadata": {
        "id": "cZ-OgncPfqHK",
        "colab": {
          "base_uri": "https://localhost:8080/"
        },
        "outputId": "e4c293ee-10d4-4cd8-f806-f3466cff9f9d"
      },
      "execution_count": 4,
      "outputs": [
        {
          "output_type": "stream",
          "name": "stdout",
          "text": [
            "HELLO\n"
          ]
        }
      ]
    },
    {
      "cell_type": "code",
      "source": [
        "# 5. Write a code to replace the word \"apple\" with \"orange\" in the string \"I like apple\"\n",
        "str5=\"I like apple\"\n",
        "print(str5.replace('apple','orange'))"
      ],
      "metadata": {
        "id": "KbNQqJaUgEfJ",
        "colab": {
          "base_uri": "https://localhost:8080/"
        },
        "outputId": "d8767430-8387-4a22-d498-fc82b0f36a98"
      },
      "execution_count": 5,
      "outputs": [
        {
          "output_type": "stream",
          "name": "stdout",
          "text": [
            "I like orange\n"
          ]
        }
      ]
    },
    {
      "cell_type": "code",
      "source": [
        "# 6. Write a code to create a list with numbers 1 to 5 and print it\n",
        "l=[1,2,3,4,5]\n",
        "print(l)"
      ],
      "metadata": {
        "id": "A2IM-4-HgCRP",
        "colab": {
          "base_uri": "https://localhost:8080/"
        },
        "outputId": "4ac6b619-7bc3-4573-cfaa-403076c185be"
      },
      "execution_count": 6,
      "outputs": [
        {
          "output_type": "stream",
          "name": "stdout",
          "text": [
            "[1, 2, 3, 4, 5]\n"
          ]
        }
      ]
    },
    {
      "cell_type": "code",
      "source": [
        "# 7.Write a code to append the number 10 to the list [1, 2, 3, 4]\n",
        "l=[1,2,3,4]\n",
        "l.append(10)\n",
        "print(l)"
      ],
      "metadata": {
        "id": "oa817cQ3gsUW",
        "colab": {
          "base_uri": "https://localhost:8080/"
        },
        "outputId": "66df23de-25cd-41b9-90c8-1eb1c76ac307"
      },
      "execution_count": 7,
      "outputs": [
        {
          "output_type": "stream",
          "name": "stdout",
          "text": [
            "[1, 2, 3, 4, 10]\n"
          ]
        }
      ]
    },
    {
      "cell_type": "code",
      "source": [
        "# 8.Write a code to remove the number 3 from the list [1, 2, 3, 4, 5]\n",
        "l=[1,2,3,4,5]\n",
        "l.remove(3)\n",
        "print(l)"
      ],
      "metadata": {
        "id": "MDaz4db8g8q0",
        "colab": {
          "base_uri": "https://localhost:8080/"
        },
        "outputId": "43eafd5b-2667-479e-f382-f0508d2eea9d"
      },
      "execution_count": 8,
      "outputs": [
        {
          "output_type": "stream",
          "name": "stdout",
          "text": [
            "[1, 2, 4, 5]\n"
          ]
        }
      ]
    },
    {
      "cell_type": "code",
      "source": [
        "# 9. Write a code to access the second element in the list ['a', 'b', 'c', 'd']\n",
        "l=['a','b','c','d']\n",
        "print(l[1])\n"
      ],
      "metadata": {
        "id": "X-wEFv6chIbT",
        "colab": {
          "base_uri": "https://localhost:8080/"
        },
        "outputId": "a8514dea-1b1b-49dd-b7d1-2a63577636de"
      },
      "execution_count": 9,
      "outputs": [
        {
          "output_type": "stream",
          "name": "stdout",
          "text": [
            "b\n"
          ]
        }
      ]
    },
    {
      "cell_type": "code",
      "source": [
        "# 10.Write a code to reverse the list [10, 20, 30, 40, 50].\n",
        "l=[10,20,30,40,50]\n",
        "l.reverse()\n",
        "print(l)"
      ],
      "metadata": {
        "id": "ITW3ofS6hgwN",
        "colab": {
          "base_uri": "https://localhost:8080/"
        },
        "outputId": "a6312c47-3c00-4fda-ddd7-c4efa747a787"
      },
      "execution_count": 13,
      "outputs": [
        {
          "output_type": "stream",
          "name": "stdout",
          "text": [
            "[50, 40, 30, 20, 10]\n"
          ]
        }
      ]
    },
    {
      "cell_type": "code",
      "source": [
        "# 11.Write a code to create a tuple with the elements 100, 200, 300 and print it.\n",
        "tup=(100,200,300)\n",
        "print(tup)"
      ],
      "metadata": {
        "id": "fgHV9spBhxRW",
        "colab": {
          "base_uri": "https://localhost:8080/"
        },
        "outputId": "e703eec0-4f94-4b47-c06c-f7189c1af9bd"
      },
      "execution_count": 14,
      "outputs": [
        {
          "output_type": "stream",
          "name": "stdout",
          "text": [
            "(100, 200, 300)\n"
          ]
        }
      ]
    },
    {
      "cell_type": "code",
      "source": [
        "# 12.Write a code to access the second-to-last element of the tuple ('red', 'green', 'blue', 'yellow').\n",
        "tup1=('red', 'green', 'blue', 'yellow')\n",
        "print(tup1[1:])"
      ],
      "metadata": {
        "id": "sxwFnbh8iBYd",
        "colab": {
          "base_uri": "https://localhost:8080/"
        },
        "outputId": "f5f35691-a36c-4ccc-db5a-ba2f85f3ac9c"
      },
      "execution_count": 15,
      "outputs": [
        {
          "output_type": "stream",
          "name": "stdout",
          "text": [
            "('green', 'blue', 'yellow')\n"
          ]
        }
      ]
    },
    {
      "cell_type": "code",
      "source": [
        "# 13. Write a code to find the minimum number in the tuple (10, 20, 5, 15).\n",
        "tup2=(10, 20, 5, 15)\n",
        "print(min(tup2))"
      ],
      "metadata": {
        "id": "j64VlAkFiXCe",
        "colab": {
          "base_uri": "https://localhost:8080/"
        },
        "outputId": "db82b274-f715-4ef2-d7f1-4e5852c617e3"
      },
      "execution_count": 16,
      "outputs": [
        {
          "output_type": "stream",
          "name": "stdout",
          "text": [
            "5\n"
          ]
        }
      ]
    },
    {
      "cell_type": "code",
      "source": [
        "# 14. Write a code to find the index of the element \"cat\" in the tuple ('dog', 'cat', 'rabbit').\n",
        "tup3=('dog', 'cat', 'rabbit')\n",
        "print(tup3.index('cat'))"
      ],
      "metadata": {
        "id": "DoptN5PaiknC",
        "colab": {
          "base_uri": "https://localhost:8080/"
        },
        "outputId": "44972507-7d6f-47bc-c5e2-99f69f143349"
      },
      "execution_count": 17,
      "outputs": [
        {
          "output_type": "stream",
          "name": "stdout",
          "text": [
            "1\n"
          ]
        }
      ]
    },
    {
      "cell_type": "code",
      "source": [
        "# 15. Write a code to create a tuple containing three different fruits and check if \"kiwi\" is in it.\n",
        "fruits=('Apple','Orange','Kiwi')\n",
        "if \"Kiwi\" in fruits:\n",
        "  print(True)\n",
        "else:\n",
        "  print(False)"
      ],
      "metadata": {
        "id": "4ujY402ji8w6",
        "colab": {
          "base_uri": "https://localhost:8080/"
        },
        "outputId": "9b9eaad3-691a-4c11-9c1e-d717e782f1e0"
      },
      "execution_count": 18,
      "outputs": [
        {
          "output_type": "stream",
          "name": "stdout",
          "text": [
            "True\n"
          ]
        }
      ]
    },
    {
      "cell_type": "code",
      "source": [
        "# 16. Write a code to create a set with the elements 'a', 'b', 'c' and print it.\n",
        "s={'a','b','c'}\n",
        "print(s)"
      ],
      "metadata": {
        "id": "rmVH-o_mjlng",
        "colab": {
          "base_uri": "https://localhost:8080/"
        },
        "outputId": "84831382-5877-484e-9c0a-7159afa46698"
      },
      "execution_count": 19,
      "outputs": [
        {
          "output_type": "stream",
          "name": "stdout",
          "text": [
            "{'a', 'b', 'c'}\n"
          ]
        }
      ]
    },
    {
      "cell_type": "code",
      "source": [
        "# 17. Write a code to clear all elements from the set {1, 2, 3, 4, 5}.\n",
        "s={1, 2, 3, 4, 5}\n",
        "s.clear()\n",
        "print(s)"
      ],
      "metadata": {
        "id": "I2a6Wnnjj3Tb",
        "colab": {
          "base_uri": "https://localhost:8080/"
        },
        "outputId": "e159f2ff-2512-4edc-ec8a-9a28a640b3e1"
      },
      "execution_count": 20,
      "outputs": [
        {
          "output_type": "stream",
          "name": "stdout",
          "text": [
            "set()\n"
          ]
        }
      ]
    },
    {
      "cell_type": "code",
      "source": [
        "# 18. Write a code to remove the element 4 from the set {1, 2, 3, 4}.\n",
        "s1={1, 2, 3, 4}\n",
        "s1.remove(4)\n",
        "print(s1)"
      ],
      "metadata": {
        "id": "n9WPPq0okFSF",
        "colab": {
          "base_uri": "https://localhost:8080/"
        },
        "outputId": "b8a9fdcb-8b0a-4c9f-d030-fc6dd9606868"
      },
      "execution_count": 21,
      "outputs": [
        {
          "output_type": "stream",
          "name": "stdout",
          "text": [
            "{1, 2, 3}\n"
          ]
        }
      ]
    },
    {
      "cell_type": "code",
      "source": [
        "# 19. Write a code to find the union of two sets {1, 2, 3} and {3, 4, 5}.\n",
        "s1={1, 2, 3}\n",
        "s2={3, 4, 5}\n",
        "print(s1|s2)\n"
      ],
      "metadata": {
        "id": "5H_IZdvGkXUo",
        "colab": {
          "base_uri": "https://localhost:8080/"
        },
        "outputId": "9e006947-bcc0-4fbd-cd1d-fd73ba2c9823"
      },
      "execution_count": 22,
      "outputs": [
        {
          "output_type": "stream",
          "name": "stdout",
          "text": [
            "{1, 2, 3, 4, 5}\n"
          ]
        }
      ]
    },
    {
      "cell_type": "code",
      "source": [
        "# 20. Write a code to find the intersection of two sets {1, 2, 3} and {2, 3, 4}.\n",
        "s1={1, 2, 3}\n",
        "s2={2, 3, 4}\n",
        "print(s1&s2)"
      ],
      "metadata": {
        "id": "1FfKvX66ktOu",
        "colab": {
          "base_uri": "https://localhost:8080/"
        },
        "outputId": "709be891-b016-42b8-d0aa-bdf9d668afd5"
      },
      "execution_count": 23,
      "outputs": [
        {
          "output_type": "stream",
          "name": "stdout",
          "text": [
            "{2, 3}\n"
          ]
        }
      ]
    },
    {
      "cell_type": "code",
      "source": [
        "# 21. Write a code to create a dictionary with the keys \"name\", \"age\", and \"city\", and print it.\n",
        "dict1={'name':\"Harsh\",'age':23,'city':\"Nagpur\"}\n",
        "print(dict1)"
      ],
      "metadata": {
        "id": "v-g8T1oQlCWo",
        "colab": {
          "base_uri": "https://localhost:8080/"
        },
        "outputId": "7a2d5b3f-7559-4793-bed7-78b8f3228b1e"
      },
      "execution_count": 26,
      "outputs": [
        {
          "output_type": "stream",
          "name": "stdout",
          "text": [
            "{'name': 'Harsh', 'age': 23, 'city': 'Nagpur'}\n"
          ]
        }
      ]
    },
    {
      "cell_type": "code",
      "source": [
        "# 22. Write a code to add a new key-value pair \"country\": \"USA\" to the dictionary {'name': 'John', 'age': 25}.\n",
        "dict1={'name': 'John', 'age': 25}\n",
        "dict1[\"country\"]='USA'\n",
        "print(dict1)"
      ],
      "metadata": {
        "id": "3pvvTsv-lXFT",
        "colab": {
          "base_uri": "https://localhost:8080/"
        },
        "outputId": "759e32bc-043e-47b5-83d7-dd2629caab18"
      },
      "execution_count": 27,
      "outputs": [
        {
          "output_type": "stream",
          "name": "stdout",
          "text": [
            "{'name': 'John', 'age': 25, 'country': 'USA'}\n"
          ]
        }
      ]
    },
    {
      "cell_type": "code",
      "source": [
        "# 23. Write a code to access the value associated with the key \"name\" in the dictionary {'name': 'Alice', 'age': 30}.\n",
        "dict2={'name': 'Alice', 'age': 30}\n",
        "print(dict2['name'])"
      ],
      "metadata": {
        "id": "ftpYAKO9lyn5",
        "colab": {
          "base_uri": "https://localhost:8080/"
        },
        "outputId": "0de446c1-8e04-4ba9-a9a7-1b1d5a23d107"
      },
      "execution_count": 28,
      "outputs": [
        {
          "output_type": "stream",
          "name": "stdout",
          "text": [
            "Alice\n"
          ]
        }
      ]
    },
    {
      "cell_type": "code",
      "source": [
        "# 24. Write a code to remove the key \"age\" from the dictionary {'name': 'Bob', 'age': 22, 'city': 'New York'}.\n",
        "dict3={'name': 'Bob', 'age': 22, 'city': 'New York'}\n",
        "dict3.pop('age')\n",
        "# del dict3['age']\n",
        "print(dict3)"
      ],
      "metadata": {
        "id": "6wdoWKXHmI_v",
        "colab": {
          "base_uri": "https://localhost:8080/"
        },
        "outputId": "b3982f71-23ec-47e8-d713-1df50f2b30d5"
      },
      "execution_count": 33,
      "outputs": [
        {
          "output_type": "stream",
          "name": "stdout",
          "text": [
            "{'name': 'Bob', 'city': 'New York'}\n"
          ]
        }
      ]
    },
    {
      "cell_type": "code",
      "source": [
        "# 25. Write a code to check if the key \"city\" exists in the dictionary {'name': 'Alice', 'city': 'Paris'}.\n",
        "dict4={'name': 'Alice', 'city': 'Paris'}\n",
        "if 'city' in dict4:\n",
        "  print(True)\n",
        "else:\n",
        "  print(False)"
      ],
      "metadata": {
        "id": "EapPyEPFm7sp",
        "colab": {
          "base_uri": "https://localhost:8080/"
        },
        "outputId": "d0b289e0-6413-47e8-a3f7-2bf872fa2e50"
      },
      "execution_count": 34,
      "outputs": [
        {
          "output_type": "stream",
          "name": "stdout",
          "text": [
            "True\n"
          ]
        }
      ]
    },
    {
      "cell_type": "code",
      "source": [
        "# 26. Write a code to create a list, a tuple, and a dictionary, and print them all.\n",
        "lis=[1,2,3,4,5]\n",
        "tup=(1,2,4,5,6)\n",
        "dic={1:'a',2:'b',3:'c',4:'d',5:'e'}\n",
        "\n",
        "print(lis)\n",
        "print(tup)\n",
        "print(dic)"
      ],
      "metadata": {
        "id": "-lnMYg0snb5y",
        "colab": {
          "base_uri": "https://localhost:8080/"
        },
        "outputId": "b89f2417-9c44-4875-c499-5ea9ee6d3e78"
      },
      "execution_count": 35,
      "outputs": [
        {
          "output_type": "stream",
          "name": "stdout",
          "text": [
            "[1, 2, 3, 4, 5]\n",
            "(1, 2, 4, 5, 6)\n",
            "{1: 'a', 2: 'b', 3: 'c', 4: 'd', 5: 'e'}\n"
          ]
        }
      ]
    },
    {
      "cell_type": "code",
      "source": [
        "# 27. Write a code to create a list of 5 random numbers between 1 and 100, sort it in ascending order, and print the result.(replaced)\n",
        "list1=[24,42,96,80,10]\n",
        "list1.sort()\n",
        "print(list1)"
      ],
      "metadata": {
        "id": "1nryWHfNn3p6",
        "colab": {
          "base_uri": "https://localhost:8080/"
        },
        "outputId": "47258319-b2e3-4102-fc9c-ef236d081144"
      },
      "execution_count": 44,
      "outputs": [
        {
          "output_type": "stream",
          "name": "stdout",
          "text": [
            "[10, 24, 42, 80, 96]\n"
          ]
        }
      ]
    },
    {
      "cell_type": "code",
      "source": [
        "# 28. Write a code to create a list with strings and print the element at the third index.\n",
        "list2=['Python','Java','C++','JavaScript','PHP']\n",
        "print(list2[3])"
      ],
      "metadata": {
        "id": "UUHu6f7soUVW",
        "colab": {
          "base_uri": "https://localhost:8080/"
        },
        "outputId": "a14e70cd-d021-48fd-991e-580ff9abe57a"
      },
      "execution_count": 40,
      "outputs": [
        {
          "output_type": "stream",
          "name": "stdout",
          "text": [
            "JavaScript\n"
          ]
        }
      ]
    },
    {
      "cell_type": "code",
      "source": [
        "# 29. Write a code to combine two dictionaries into one and print the result.\n",
        "sub1={'C++':98,'Java':89}\n",
        "sub2={'Python':99,'PHP':80}\n",
        "sub1.update(sub2)\n",
        "print(sub1)\n"
      ],
      "metadata": {
        "id": "A-3fJ1Tnor--",
        "colab": {
          "base_uri": "https://localhost:8080/"
        },
        "outputId": "af5eec84-1031-44c7-a84a-0c371424c2b2"
      },
      "execution_count": 41,
      "outputs": [
        {
          "output_type": "stream",
          "name": "stdout",
          "text": [
            "{'C++': 98, 'Java': 89, 'Python': 99, 'PHP': 80}\n"
          ]
        }
      ]
    },
    {
      "cell_type": "code",
      "source": [
        "# 30. Write a code to convert a list of strings into a set.\n",
        "l=['Python','Java','C++','JavaScript','PHP']\n",
        "s=set(l)\n",
        "print(s)"
      ],
      "metadata": {
        "id": "XN9pwnPQoxD8",
        "colab": {
          "base_uri": "https://localhost:8080/"
        },
        "outputId": "3eff8d1a-6ced-4cc7-a21f-40ca554db907"
      },
      "execution_count": 42,
      "outputs": [
        {
          "output_type": "stream",
          "name": "stdout",
          "text": [
            "{'Python', 'PHP', 'Java', 'JavaScript', 'C++'}\n"
          ]
        }
      ]
    }
  ]
}